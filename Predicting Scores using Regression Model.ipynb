{
 "cells": [
  {
   "cell_type": "markdown",
   "metadata": {},
   "source": [
    "### Importing all the necessary libraries"
   ]
  },
  {
   "cell_type": "code",
   "execution_count": 1,
   "metadata": {},
   "outputs": [],
   "source": [
    "import pandas as pd\n",
    "import numpy as np\n",
    "from sklearn.linear_model import LinearRegression as lr\n",
    "from sklearn.model_selection import train_test_split as tt\n",
    "from sklearn.ensemble import RandomForestClassifier\n",
    "from matplotlib import pyplot as plt"
   ]
  },
  {
   "cell_type": "markdown",
   "metadata": {},
   "source": [
    "### Loading the clean Student Performance DataFile"
   ]
  },
  {
   "cell_type": "code",
   "execution_count": 2,
   "metadata": {},
   "outputs": [],
   "source": [
    "df=pd.read_csv('StudentsPerformance_clean.csv')"
   ]
  },
  {
   "cell_type": "markdown",
   "metadata": {},
   "source": [
    "### Creating a linear model"
   ]
  },
  {
   "cell_type": "code",
   "execution_count": 3,
   "metadata": {},
   "outputs": [],
   "source": [
    "model=lr()"
   ]
  },
  {
   "cell_type": "markdown",
   "metadata": {},
   "source": [
    "## #Prediction of Math score"
   ]
  },
  {
   "cell_type": "code",
   "execution_count": 4,
   "metadata": {},
   "outputs": [],
   "source": [
    "#features\n",
    "X = df[['test preparation course_mapped','gender_mapped','writing score','reading score','grade_mapped','pass/fail_mapped']]\n",
    "# target values \n",
    "y = df['math score']"
   ]
  },
  {
   "cell_type": "code",
   "execution_count": 5,
   "metadata": {},
   "outputs": [],
   "source": [
    "X_train,X_test,y_train,y_test=tt(X,y,test_size=0.2,random_state=123)"
   ]
  },
  {
   "cell_type": "markdown",
   "metadata": {},
   "source": [
    "### Fitting the X_train anf y_train in linear model"
   ]
  },
  {
   "cell_type": "code",
   "execution_count": 6,
   "metadata": {},
   "outputs": [
    {
     "data": {
      "text/plain": [
       "LinearRegression(copy_X=True, fit_intercept=True, n_jobs=None,\n",
       "         normalize=False)"
      ]
     },
     "execution_count": 6,
     "metadata": {},
     "output_type": "execute_result"
    }
   ],
   "source": [
    "model.fit(X_train,y_train)"
   ]
  },
  {
   "cell_type": "code",
   "execution_count": 7,
   "metadata": {},
   "outputs": [
    {
     "data": {
      "text/plain": [
       "0.8716183624089698"
      ]
     },
     "execution_count": 7,
     "metadata": {},
     "output_type": "execute_result"
    }
   ],
   "source": [
    "model.score(X_test,y_test)"
   ]
  },
  {
   "cell_type": "markdown",
   "metadata": {},
   "source": [
    "### Predicting the math score with X_test"
   ]
  },
  {
   "cell_type": "code",
   "execution_count": 8,
   "metadata": {},
   "outputs": [
    {
     "data": {
      "text/plain": [
       "array([38.80268653, 62.19474453, 55.84033647, 67.65418428, 61.11223094,\n",
       "       66.62008847, 76.93592242, 54.09899287, 75.09902675, 74.25192209,\n",
       "       57.91109509, 85.55699292, 59.65316806, 69.48979645, 65.06701951,\n",
       "       28.54135355, 47.31298041, 69.11453066, 83.8640671 , 74.62847138,\n",
       "       77.40519429, 86.96892152, 82.8669094 , 33.81251865, 86.3967309 ,\n",
       "       79.80764327, 90.12193123, 71.51342078, 64.50091207, 42.66063953,\n",
       "       78.81939825, 69.35858978, 86.91442055, 80.13478292, 51.68990657,\n",
       "       61.77260695, 48.86604937, 26.60308511, 67.1922791 , 59.32302368,\n",
       "       78.25229895, 71.85303197, 80.13577478, 69.72494289, 66.28938997,\n",
       "       68.68956359, 23.30867255, 66.99535426, 75.2873014 , 66.8554974 ,\n",
       "       76.88978   , 69.39552788, 68.73669787, 46.84242504, 63.37152669,\n",
       "       69.59399871, 46.88929683, 65.44356881, 55.65206183, 73.4988235 ,\n",
       "       80.60633015, 58.71261145, 77.68846687, 49.24259866, 42.18295567,\n",
       "       89.37037864, 84.66403748, 66.80707962, 64.45377779, 88.71026513,\n",
       "       67.88959321, 53.58258671, 60.07612227, 73.1694085 , 59.74743663,\n",
       "       70.14862647, 72.22958126, 91.48827154, 52.54720741, 47.31298041,\n",
       "       76.41668678, 70.0543579 , 76.04039998, 85.18172713, 90.49848052,\n",
       "       86.91442055, 71.94575455, 58.19337581, 91.91040912, 70.00748611,\n",
       "       56.82858149, 45.9481861 , 74.11206523, 62.94784312, 76.6536417 ,\n",
       "       87.7701754 , 72.03111044, 70.15727665, 79.75849612, 63.41839848,\n",
       "       72.41630991, 75.38285347, 80.79460479, 74.15919951, 75.85212533,\n",
       "       48.26428733, 78.81712289, 68.6042077 , 71.47648268, 64.03164021,\n",
       "       68.87938422, 30.32118125, 78.86627004, 69.68672129, 59.08989011,\n",
       "       72.0884409 , 97.46411744, 35.96889565, 50.00563093, 85.37000178,\n",
       "       80.88887336, 78.48770788, 84.66403748, 56.64030685, 99.11273847,\n",
       "       82.77135733, 62.6652999 , 50.66317745, 71.0912832 , 79.71136184,\n",
       "       55.13565567, 56.92285006, 62.24316232, 68.79376584, 78.91340433,\n",
       "       71.37228042, 60.82995022, 80.18191721, 84.19348211, 45.66692638,\n",
       "       51.93524919, 72.65171884, 78.20671066, 56.35802613, 83.99501128,\n",
       "       49.94984646, 78.34858039, 32.15653094, 68.88803441, 73.02826814,\n",
       "       59.88857699, 53.72244357, 76.37109849, 54.3344018 , 49.95721315,\n",
       "       65.45093549, 62.05360417, 77.17206072, 70.33690111, 66.62008847,\n",
       "       50.09835351, 65.73449971, 73.64022636, 65.49070309, 57.81781837,\n",
       "       76.88750464, 77.21691965, 72.21938508, 57.53454579, 70.58096023,\n",
       "       37.61775487, 91.25157911, 61.11351444, 72.79285921, 55.32264682,\n",
       "       32.53308023, 88.85268899, 73.4988235 , 91.67526268, 64.31263743,\n",
       "       82.39480804, 85.50094596, 65.63184345, 67.41877535, 84.278838  ,\n",
       "       65.53783737, 69.02762878, 69.21744942, 60.97109058, 54.85182896,\n",
       "       59.18261269, 61.96088159, 61.44091658, 73.40481743, 74.62847138,\n",
       "       62.00646989, 65.1141538 , 70.20441094, 78.72440032, 96.5242902 ])"
      ]
     },
     "execution_count": 8,
     "metadata": {},
     "output_type": "execute_result"
    }
   ],
   "source": [
    "prediction=model.predict(X_test)\n",
    "prediction"
   ]
  },
  {
   "cell_type": "code",
   "execution_count": 9,
   "metadata": {},
   "outputs": [
    {
     "data": {
      "image/png": "[encoded data removed]",
      "text/plain": [
       "<Figure size 432x288 with 1 Axes>"
      ]
     },
     "metadata": {
      "needs_background": "light"
     },
     "output_type": "display_data"
    }
   ],
   "source": [
    "plt.scatter(y_test, prediction)\n",
    "plt.xlabel(\"True Values\")\n",
    "plt.ylabel(\"Predictions\")\n",
    "plt.show()"
   ]
  },
  {
   "cell_type": "markdown",
   "metadata": {},
   "source": [
    "### Fitting X and y in RandomForestClassifier"
   ]
  },
  {
   "cell_type": "code",
   "execution_count": 10,
   "metadata": {},
   "outputs": [
    {
     "data": {
      "text/plain": [
       "RandomForestClassifier(bootstrap=True, class_weight=None, criterion='gini',\n",
       "            max_depth=2, max_features='auto', max_leaf_nodes=None,\n",
       "            min_impurity_decrease=0.0, min_impurity_split=None,\n",
       "            min_samples_leaf=1, min_samples_split=2,\n",
       "            min_weight_fraction_leaf=0.0, n_estimators=100, n_jobs=None,\n",
       "            oob_score=False, random_state=0, verbose=0, warm_start=False)"
      ]
     },
     "execution_count": 10,
     "metadata": {},
     "output_type": "execute_result"
    }
   ],
   "source": [
    "clf = RandomForestClassifier(n_estimators=100, max_depth=2,random_state=0);\n",
    "clf.fit(X, y)"
   ]
  },
  {
   "cell_type": "markdown",
   "metadata": {},
   "source": [
    "### Checking the important features"
   ]
  },
  {
   "cell_type": "code",
   "execution_count": 11,
   "metadata": {},
   "outputs": [
    {
     "data": {
      "text/plain": [
       "array([0.01866689, 0.05182251, 0.19263555, 0.27258108, 0.39781667,\n",
       "       0.06647729])"
      ]
     },
     "execution_count": 11,
     "metadata": {},
     "output_type": "execute_result"
    }
   ],
   "source": [
    "clf.feature_importances_"
   ]
  },
  {
   "cell_type": "code",
   "execution_count": 12,
   "metadata": {},
   "outputs": [
    {
     "data": {
      "text/html": [
       "<div>\n",
       "<style scoped>\n",
       "    .dataframe tbody tr th:only-of-type {\n",
       "        vertical-align: middle;\n",
       "    }\n",
       "\n",
       "    .dataframe tbody tr th {\n",
       "        vertical-align: top;\n",
       "    }\n",
       "\n",
       "    .dataframe thead th {\n",
       "        text-align: right;\n",
       "    }\n",
       "</style>\n",
       "<table border=\"1\" class=\"dataframe\">\n",
       "  <thead>\n",
       "    <tr style=\"text-align: right;\">\n",
       "      <th></th>\n",
       "      <th>feature</th>\n",
       "      <th>importance</th>\n",
       "    </tr>\n",
       "  </thead>\n",
       "  <tbody>\n",
       "    <tr>\n",
       "      <th>0</th>\n",
       "      <td>test preparation course_mapped</td>\n",
       "      <td>0.018667</td>\n",
       "    </tr>\n",
       "    <tr>\n",
       "      <th>1</th>\n",
       "      <td>gender_mapped</td>\n",
       "      <td>0.051823</td>\n",
       "    </tr>\n",
       "    <tr>\n",
       "      <th>2</th>\n",
       "      <td>writing score</td>\n",
       "      <td>0.192636</td>\n",
       "    </tr>\n",
       "    <tr>\n",
       "      <th>3</th>\n",
       "      <td>reading score</td>\n",
       "      <td>0.272581</td>\n",
       "    </tr>\n",
       "    <tr>\n",
       "      <th>4</th>\n",
       "      <td>grade_mapped</td>\n",
       "      <td>0.397817</td>\n",
       "    </tr>\n",
       "    <tr>\n",
       "      <th>5</th>\n",
       "      <td>pass/fail_mapped</td>\n",
       "      <td>0.066477</td>\n",
       "    </tr>\n",
       "  </tbody>\n",
       "</table>\n",
       "</div>"
      ],
      "text/plain": [
       "                          feature  importance\n",
       "0  test preparation course_mapped    0.018667\n",
       "1                   gender_mapped    0.051823\n",
       "2                   writing score    0.192636\n",
       "3                   reading score    0.272581\n",
       "4                    grade_mapped    0.397817\n",
       "5                pass/fail_mapped    0.066477"
      ]
     },
     "execution_count": 12,
     "metadata": {},
     "output_type": "execute_result"
    }
   ],
   "source": [
    "feature=['test preparation course_mapped','gender_mapped','writing score','reading score','grade_mapped','pass/fail_mapped']\n",
    "feature_imp=pd.DataFrame({'feature':feature,'importance':clf.feature_importances_})\n",
    "feature_imp"
   ]
  },
  {
   "cell_type": "code",
   "execution_count": 13,
   "metadata": {},
   "outputs": [
    {
     "data": {
      "text/plain": [
       "<matplotlib.axes._subplots.AxesSubplot at 0xe612190>"
      ]
     },
     "execution_count": 13,
     "metadata": {},
     "output_type": "execute_result"
    },
    {
     "data": {
      "image/png": "[encoded data removed]",
      "text/plain": [
       "<Figure size 432x288 with 1 Axes>"
      ]
     },
     "metadata": {
      "needs_background": "light"
     },
     "output_type": "display_data"
    }
   ],
   "source": [
    "feature_imp.plot.bar()"
   ]
  },
  {
   "cell_type": "markdown",
   "metadata": {},
   "source": [
    "### Removing the least important feature i.e test preparation course_mapped"
   ]
  },
  {
   "cell_type": "code",
   "execution_count": 14,
   "metadata": {},
   "outputs": [],
   "source": [
    "X1=df[['gender_mapped','writing score','reading score','grade_mapped','pass/fail_mapped']]"
   ]
  },
  {
   "cell_type": "code",
   "execution_count": 15,
   "metadata": {},
   "outputs": [
    {
     "data": {
      "text/plain": [
       "RandomForestClassifier(bootstrap=True, class_weight=None, criterion='gini',\n",
       "            max_depth=2, max_features='auto', max_leaf_nodes=None,\n",
       "            min_impurity_decrease=0.0, min_impurity_split=None,\n",
       "            min_samples_leaf=1, min_samples_split=2,\n",
       "            min_weight_fraction_leaf=0.0, n_estimators=100, n_jobs=None,\n",
       "            oob_score=False, random_state=0, verbose=0, warm_start=False)"
      ]
     },
     "execution_count": 15,
     "metadata": {},
     "output_type": "execute_result"
    }
   ],
   "source": [
    "clf.fit(X1,y)"
   ]
  },
  {
   "cell_type": "code",
   "execution_count": 16,
   "metadata": {},
   "outputs": [
    {
     "data": {
      "text/plain": [
       "array([0.02296141, 0.19296709, 0.31030068, 0.40777419, 0.06599663])"
      ]
     },
     "execution_count": 16,
     "metadata": {},
     "output_type": "execute_result"
    }
   ],
   "source": [
    "clf.feature_importances_"
   ]
  },
  {
   "cell_type": "code",
   "execution_count": 17,
   "metadata": {},
   "outputs": [
    {
     "data": {
      "text/html": [
       "<div>\n",
       "<style scoped>\n",
       "    .dataframe tbody tr th:only-of-type {\n",
       "        vertical-align: middle;\n",
       "    }\n",
       "\n",
       "    .dataframe tbody tr th {\n",
       "        vertical-align: top;\n",
       "    }\n",
       "\n",
       "    .dataframe thead th {\n",
       "        text-align: right;\n",
       "    }\n",
       "</style>\n",
       "<table border=\"1\" class=\"dataframe\">\n",
       "  <thead>\n",
       "    <tr style=\"text-align: right;\">\n",
       "      <th></th>\n",
       "      <th>feature</th>\n",
       "      <th>importance</th>\n",
       "    </tr>\n",
       "  </thead>\n",
       "  <tbody>\n",
       "    <tr>\n",
       "      <th>0</th>\n",
       "      <td>gender_mapped</td>\n",
       "      <td>0.022961</td>\n",
       "    </tr>\n",
       "    <tr>\n",
       "      <th>1</th>\n",
       "      <td>writing score</td>\n",
       "      <td>0.192967</td>\n",
       "    </tr>\n",
       "    <tr>\n",
       "      <th>2</th>\n",
       "      <td>reading score</td>\n",
       "      <td>0.310301</td>\n",
       "    </tr>\n",
       "    <tr>\n",
       "      <th>3</th>\n",
       "      <td>grade_mapped</td>\n",
       "      <td>0.407774</td>\n",
       "    </tr>\n",
       "    <tr>\n",
       "      <th>4</th>\n",
       "      <td>pass/fail_mapped</td>\n",
       "      <td>0.065997</td>\n",
       "    </tr>\n",
       "  </tbody>\n",
       "</table>\n",
       "</div>"
      ],
      "text/plain": [
       "            feature  importance\n",
       "0     gender_mapped    0.022961\n",
       "1     writing score    0.192967\n",
       "2     reading score    0.310301\n",
       "3      grade_mapped    0.407774\n",
       "4  pass/fail_mapped    0.065997"
      ]
     },
     "execution_count": 17,
     "metadata": {},
     "output_type": "execute_result"
    }
   ],
   "source": [
    "feature1=['gender_mapped','writing score','reading score','grade_mapped','pass/fail_mapped']\n",
    "feature_imp1=pd.DataFrame({'feature':feature1,'importance':clf.feature_importances_})\n",
    "feature_imp1"
   ]
  },
  {
   "cell_type": "code",
   "execution_count": 18,
   "metadata": {},
   "outputs": [
    {
     "data": {
      "text/plain": [
       "<matplotlib.axes._subplots.AxesSubplot at 0xe689830>"
      ]
     },
     "execution_count": 18,
     "metadata": {},
     "output_type": "execute_result"
    },
    {
     "data": {
      "image/png": "[encoded data removed]",
      "text/plain": [
       "<Figure size 432x288 with 1 Axes>"
      ]
     },
     "metadata": {
      "needs_background": "light"
     },
     "output_type": "display_data"
    }
   ],
   "source": [
    "feature_imp1.plot.bar()"
   ]
  },
  {
   "cell_type": "markdown",
   "metadata": {},
   "source": [
    "### Prediciting math score without test preparation course"
   ]
  },
  {
   "cell_type": "code",
   "execution_count": 19,
   "metadata": {},
   "outputs": [],
   "source": [
    "X1_train,X1_test,y1_train,y1_test=tt(X1,y,test_size=0.2,random_state=123)"
   ]
  },
  {
   "cell_type": "markdown",
   "metadata": {},
   "source": [
    "### Fitting X1_train and y1_train in linear model"
   ]
  },
  {
   "cell_type": "code",
   "execution_count": 20,
   "metadata": {},
   "outputs": [
    {
     "data": {
      "text/plain": [
       "LinearRegression(copy_X=True, fit_intercept=True, n_jobs=None,\n",
       "         normalize=False)"
      ]
     },
     "execution_count": 20,
     "metadata": {},
     "output_type": "execute_result"
    }
   ],
   "source": [
    "model.fit(X1_train,y1_train)"
   ]
  },
  {
   "cell_type": "code",
   "execution_count": 21,
   "metadata": {},
   "outputs": [
    {
     "data": {
      "text/plain": [
       "0.865439439830358"
      ]
     },
     "execution_count": 21,
     "metadata": {},
     "output_type": "execute_result"
    }
   ],
   "source": [
    "model.score(X1_test,y1_test)"
   ]
  },
  {
   "cell_type": "code",
   "execution_count": 22,
   "metadata": {},
   "outputs": [
    {
     "data": {
      "text/plain": [
       "array([40.7485863 , 61.37776986, 55.46023624, 66.33733107, 60.22846476,\n",
       "       67.84897698, 78.08993152, 54.00520546, 73.62859144, 73.07375519,\n",
       "       57.06812987, 84.9633987 , 58.58093853, 68.48307843, 66.64305676,\n",
       "       28.81959684, 47.01967077, 70.30045002, 86.16931893, 73.57197632,\n",
       "       75.83095392, 86.26556665, 84.2962083 , 33.53004748, 87.55162816,\n",
       "       81.09740356, 87.8904428 , 69.74561377, 63.58013234, 41.84127628,\n",
       "       80.63881503, 71.17711839, 87.95360157, 77.74457323, 50.82992688,\n",
       "       63.98210575, 48.225591  , 26.83325597, 66.56291547, 58.37029782,\n",
       "       76.38579017, 73.62859144, 78.93467368, 67.9452247 , 65.38052141,\n",
       "       67.14127788, 24.17230496, 66.03160538, 73.877702  , 68.44344583,\n",
       "       78.93467368, 67.79236186, 67.48663617, 46.96305565, 63.21779153,\n",
       "       71.77158724, 46.17609136, 67.14127788, 55.21112568, 72.07731293,\n",
       "       78.9912888 , 60.72552314, 76.82855892, 48.72381212, 42.21297241,\n",
       "       90.34191585, 86.37879689, 65.78249482, 63.23477405, 87.72059744,\n",
       "       66.93179992, 55.91882477, 59.36674007, 71.92445009, 59.2716551 ,\n",
       "       68.78880411, 74.12681257, 92.29516776, 55.11487796, 47.01967077,\n",
       "       74.24004281, 68.09808754, 74.87414426, 86.7807703 , 88.38866393,\n",
       "       87.95360157, 70.87139271, 56.87563443, 89.69083187, 68.88505183,\n",
       "       55.91882477, 46.06286111, 75.48559563, 62.37421212, 78.28242696,\n",
       "       88.79063734, 70.14758718, 69.07100363, 78.37867468, 62.43082724,\n",
       "       70.92800783, 76.8840113 , 79.24039937, 75.83095392, 74.62503369,\n",
       "       50.86301584, 77.13312186, 67.86508341, 73.13037031, 65.83910994,\n",
       "       70.83830375, 30.33778639, 79.85185074, 69.01438851, 61.28152214,\n",
       "       74.22306029, 95.34110966, 35.54645816, 52.31804663, 87.02988086,\n",
       "       79.93111594, 76.98025902, 86.37879689, 55.66971421, 99.55333917,\n",
       "       81.289899  , 61.43438498, 50.30817959, 72.34994966, 78.0333164 ,\n",
       "       57.12474499, 56.60954134, 64.03872087, 70.4297867 , 80.19720903,\n",
       "       69.84186149, 60.4209602 , 78.08993152, 86.32218177, 47.4386267 ,\n",
       "       54.02218798, 71.52247668, 79.48834718, 55.86220965, 82.34295638,\n",
       "       51.69048882, 79.44987733, 31.35121117, 71.12050327, 72.02069781,\n",
       "       59.17540738, 53.50698433, 77.34259983, 54.59967431, 49.65709562,\n",
       "       65.10788468, 61.47401758, 78.74217824, 69.03791468, 67.84897698,\n",
       "       49.5608479 , 67.23098196, 73.11338779, 67.48663617, 57.56751375,\n",
       "       75.42898051, 75.58184335, 70.39669774, 56.56990874, 69.91458305,\n",
       "       38.15360573, 89.38510619, 62.54405748, 71.42622896, 55.05826283,\n",
       "       31.8494323 , 89.93994244, 72.07731293, 90.2286856 , 63.33102177,\n",
       "       80.79167788, 83.20351832, 67.39038845, 65.74286222, 85.59837624,\n",
       "       67.83199446, 67.57634025, 71.27336611, 60.32471248, 53.86932514,\n",
       "       58.52432341, 64.23121631, 60.32354973, 72.51891894, 73.57197632,\n",
       "       61.12865929, 66.98841504, 69.41636192, 79.89032059, 97.54347214])"
      ]
     },
     "execution_count": 22,
     "metadata": {},
     "output_type": "execute_result"
    }
   ],
   "source": [
    "prediction1=model.predict(X1_test)\n",
    "prediction1"
   ]
  },
  {
   "cell_type": "code",
   "execution_count": 23,
   "metadata": {},
   "outputs": [
    {
     "data": {
      "text/html": [
       "<div>\n",
       "<style scoped>\n",
       "    .dataframe tbody tr th:only-of-type {\n",
       "        vertical-align: middle;\n",
       "    }\n",
       "\n",
       "    .dataframe tbody tr th {\n",
       "        vertical-align: top;\n",
       "    }\n",
       "\n",
       "    .dataframe thead th {\n",
       "        text-align: right;\n",
       "    }\n",
       "</style>\n",
       "<table border=\"1\" class=\"dataframe\">\n",
       "  <thead>\n",
       "    <tr style=\"text-align: right;\">\n",
       "      <th></th>\n",
       "      <th>With test preparation course</th>\n",
       "      <th>Without test preparation course</th>\n",
       "    </tr>\n",
       "  </thead>\n",
       "  <tbody>\n",
       "    <tr>\n",
       "      <th>0</th>\n",
       "      <td>38.802687</td>\n",
       "      <td>40.748586</td>\n",
       "    </tr>\n",
       "    <tr>\n",
       "      <th>1</th>\n",
       "      <td>62.194745</td>\n",
       "      <td>61.377770</td>\n",
       "    </tr>\n",
       "    <tr>\n",
       "      <th>2</th>\n",
       "      <td>55.840336</td>\n",
       "      <td>55.460236</td>\n",
       "    </tr>\n",
       "    <tr>\n",
       "      <th>3</th>\n",
       "      <td>67.654184</td>\n",
       "      <td>66.337331</td>\n",
       "    </tr>\n",
       "    <tr>\n",
       "      <th>4</th>\n",
       "      <td>61.112231</td>\n",
       "      <td>60.228465</td>\n",
       "    </tr>\n",
       "    <tr>\n",
       "      <th>5</th>\n",
       "      <td>66.620088</td>\n",
       "      <td>67.848977</td>\n",
       "    </tr>\n",
       "    <tr>\n",
       "      <th>6</th>\n",
       "      <td>76.935922</td>\n",
       "      <td>78.089932</td>\n",
       "    </tr>\n",
       "    <tr>\n",
       "      <th>7</th>\n",
       "      <td>54.098993</td>\n",
       "      <td>54.005205</td>\n",
       "    </tr>\n",
       "    <tr>\n",
       "      <th>8</th>\n",
       "      <td>75.099027</td>\n",
       "      <td>73.628591</td>\n",
       "    </tr>\n",
       "    <tr>\n",
       "      <th>9</th>\n",
       "      <td>74.251922</td>\n",
       "      <td>73.073755</td>\n",
       "    </tr>\n",
       "    <tr>\n",
       "      <th>10</th>\n",
       "      <td>57.911095</td>\n",
       "      <td>57.068130</td>\n",
       "    </tr>\n",
       "    <tr>\n",
       "      <th>11</th>\n",
       "      <td>85.556993</td>\n",
       "      <td>84.963399</td>\n",
       "    </tr>\n",
       "    <tr>\n",
       "      <th>12</th>\n",
       "      <td>59.653168</td>\n",
       "      <td>58.580939</td>\n",
       "    </tr>\n",
       "    <tr>\n",
       "      <th>13</th>\n",
       "      <td>69.489796</td>\n",
       "      <td>68.483078</td>\n",
       "    </tr>\n",
       "    <tr>\n",
       "      <th>14</th>\n",
       "      <td>65.067020</td>\n",
       "      <td>66.643057</td>\n",
       "    </tr>\n",
       "    <tr>\n",
       "      <th>15</th>\n",
       "      <td>28.541354</td>\n",
       "      <td>28.819597</td>\n",
       "    </tr>\n",
       "    <tr>\n",
       "      <th>16</th>\n",
       "      <td>47.312980</td>\n",
       "      <td>47.019671</td>\n",
       "    </tr>\n",
       "    <tr>\n",
       "      <th>17</th>\n",
       "      <td>69.114531</td>\n",
       "      <td>70.300450</td>\n",
       "    </tr>\n",
       "    <tr>\n",
       "      <th>18</th>\n",
       "      <td>83.864067</td>\n",
       "      <td>86.169319</td>\n",
       "    </tr>\n",
       "    <tr>\n",
       "      <th>19</th>\n",
       "      <td>74.628471</td>\n",
       "      <td>73.571976</td>\n",
       "    </tr>\n",
       "    <tr>\n",
       "      <th>20</th>\n",
       "      <td>77.405194</td>\n",
       "      <td>75.830954</td>\n",
       "    </tr>\n",
       "    <tr>\n",
       "      <th>21</th>\n",
       "      <td>86.968922</td>\n",
       "      <td>86.265567</td>\n",
       "    </tr>\n",
       "    <tr>\n",
       "      <th>22</th>\n",
       "      <td>82.866909</td>\n",
       "      <td>84.296208</td>\n",
       "    </tr>\n",
       "    <tr>\n",
       "      <th>23</th>\n",
       "      <td>33.812519</td>\n",
       "      <td>33.530047</td>\n",
       "    </tr>\n",
       "    <tr>\n",
       "      <th>24</th>\n",
       "      <td>86.396731</td>\n",
       "      <td>87.551628</td>\n",
       "    </tr>\n",
       "    <tr>\n",
       "      <th>25</th>\n",
       "      <td>79.807643</td>\n",
       "      <td>81.097404</td>\n",
       "    </tr>\n",
       "    <tr>\n",
       "      <th>26</th>\n",
       "      <td>90.121931</td>\n",
       "      <td>87.890443</td>\n",
       "    </tr>\n",
       "    <tr>\n",
       "      <th>27</th>\n",
       "      <td>71.513421</td>\n",
       "      <td>69.745614</td>\n",
       "    </tr>\n",
       "    <tr>\n",
       "      <th>28</th>\n",
       "      <td>64.500912</td>\n",
       "      <td>63.580132</td>\n",
       "    </tr>\n",
       "    <tr>\n",
       "      <th>29</th>\n",
       "      <td>42.660640</td>\n",
       "      <td>41.841276</td>\n",
       "    </tr>\n",
       "    <tr>\n",
       "      <th>...</th>\n",
       "      <td>...</td>\n",
       "      <td>...</td>\n",
       "    </tr>\n",
       "    <tr>\n",
       "      <th>170</th>\n",
       "      <td>37.617755</td>\n",
       "      <td>38.153606</td>\n",
       "    </tr>\n",
       "    <tr>\n",
       "      <th>171</th>\n",
       "      <td>91.251579</td>\n",
       "      <td>89.385106</td>\n",
       "    </tr>\n",
       "    <tr>\n",
       "      <th>172</th>\n",
       "      <td>61.113514</td>\n",
       "      <td>62.544057</td>\n",
       "    </tr>\n",
       "    <tr>\n",
       "      <th>173</th>\n",
       "      <td>72.792859</td>\n",
       "      <td>71.426229</td>\n",
       "    </tr>\n",
       "    <tr>\n",
       "      <th>174</th>\n",
       "      <td>55.322647</td>\n",
       "      <td>55.058263</td>\n",
       "    </tr>\n",
       "    <tr>\n",
       "      <th>175</th>\n",
       "      <td>32.533080</td>\n",
       "      <td>31.849432</td>\n",
       "    </tr>\n",
       "    <tr>\n",
       "      <th>176</th>\n",
       "      <td>88.852689</td>\n",
       "      <td>89.939942</td>\n",
       "    </tr>\n",
       "    <tr>\n",
       "      <th>177</th>\n",
       "      <td>73.498824</td>\n",
       "      <td>72.077313</td>\n",
       "    </tr>\n",
       "    <tr>\n",
       "      <th>178</th>\n",
       "      <td>91.675263</td>\n",
       "      <td>90.228686</td>\n",
       "    </tr>\n",
       "    <tr>\n",
       "      <th>179</th>\n",
       "      <td>64.312637</td>\n",
       "      <td>63.331022</td>\n",
       "    </tr>\n",
       "    <tr>\n",
       "      <th>180</th>\n",
       "      <td>82.394808</td>\n",
       "      <td>80.791678</td>\n",
       "    </tr>\n",
       "    <tr>\n",
       "      <th>181</th>\n",
       "      <td>85.500946</td>\n",
       "      <td>83.203518</td>\n",
       "    </tr>\n",
       "    <tr>\n",
       "      <th>182</th>\n",
       "      <td>65.631843</td>\n",
       "      <td>67.390388</td>\n",
       "    </tr>\n",
       "    <tr>\n",
       "      <th>183</th>\n",
       "      <td>67.418775</td>\n",
       "      <td>65.742862</td>\n",
       "    </tr>\n",
       "    <tr>\n",
       "      <th>184</th>\n",
       "      <td>84.278838</td>\n",
       "      <td>85.598376</td>\n",
       "    </tr>\n",
       "    <tr>\n",
       "      <th>185</th>\n",
       "      <td>65.537837</td>\n",
       "      <td>67.831994</td>\n",
       "    </tr>\n",
       "    <tr>\n",
       "      <th>186</th>\n",
       "      <td>69.027629</td>\n",
       "      <td>67.576340</td>\n",
       "    </tr>\n",
       "    <tr>\n",
       "      <th>187</th>\n",
       "      <td>69.217449</td>\n",
       "      <td>71.273366</td>\n",
       "    </tr>\n",
       "    <tr>\n",
       "      <th>188</th>\n",
       "      <td>60.971091</td>\n",
       "      <td>60.324712</td>\n",
       "    </tr>\n",
       "    <tr>\n",
       "      <th>189</th>\n",
       "      <td>54.851829</td>\n",
       "      <td>53.869325</td>\n",
       "    </tr>\n",
       "    <tr>\n",
       "      <th>190</th>\n",
       "      <td>59.182613</td>\n",
       "      <td>58.524323</td>\n",
       "    </tr>\n",
       "    <tr>\n",
       "      <th>191</th>\n",
       "      <td>61.960882</td>\n",
       "      <td>64.231216</td>\n",
       "    </tr>\n",
       "    <tr>\n",
       "      <th>192</th>\n",
       "      <td>61.440917</td>\n",
       "      <td>60.323550</td>\n",
       "    </tr>\n",
       "    <tr>\n",
       "      <th>193</th>\n",
       "      <td>73.404817</td>\n",
       "      <td>72.518919</td>\n",
       "    </tr>\n",
       "    <tr>\n",
       "      <th>194</th>\n",
       "      <td>74.628471</td>\n",
       "      <td>73.571976</td>\n",
       "    </tr>\n",
       "    <tr>\n",
       "      <th>195</th>\n",
       "      <td>62.006470</td>\n",
       "      <td>61.128659</td>\n",
       "    </tr>\n",
       "    <tr>\n",
       "      <th>196</th>\n",
       "      <td>65.114154</td>\n",
       "      <td>66.988415</td>\n",
       "    </tr>\n",
       "    <tr>\n",
       "      <th>197</th>\n",
       "      <td>70.204411</td>\n",
       "      <td>69.416362</td>\n",
       "    </tr>\n",
       "    <tr>\n",
       "      <th>198</th>\n",
       "      <td>78.724400</td>\n",
       "      <td>79.890321</td>\n",
       "    </tr>\n",
       "    <tr>\n",
       "      <th>199</th>\n",
       "      <td>96.524290</td>\n",
       "      <td>97.543472</td>\n",
       "    </tr>\n",
       "  </tbody>\n",
       "</table>\n",
       "<p>200 rows × 2 columns</p>\n",
       "</div>"
      ],
      "text/plain": [
       "     With test preparation course  Without test preparation course\n",
       "0                       38.802687                        40.748586\n",
       "1                       62.194745                        61.377770\n",
       "2                       55.840336                        55.460236\n",
       "3                       67.654184                        66.337331\n",
       "4                       61.112231                        60.228465\n",
       "5                       66.620088                        67.848977\n",
       "6                       76.935922                        78.089932\n",
       "7                       54.098993                        54.005205\n",
       "8                       75.099027                        73.628591\n",
       "9                       74.251922                        73.073755\n",
       "10                      57.911095                        57.068130\n",
       "11                      85.556993                        84.963399\n",
       "12                      59.653168                        58.580939\n",
       "13                      69.489796                        68.483078\n",
       "14                      65.067020                        66.643057\n",
       "15                      28.541354                        28.819597\n",
       "16                      47.312980                        47.019671\n",
       "17                      69.114531                        70.300450\n",
       "18                      83.864067                        86.169319\n",
       "19                      74.628471                        73.571976\n",
       "20                      77.405194                        75.830954\n",
       "21                      86.968922                        86.265567\n",
       "22                      82.866909                        84.296208\n",
       "23                      33.812519                        33.530047\n",
       "24                      86.396731                        87.551628\n",
       "25                      79.807643                        81.097404\n",
       "26                      90.121931                        87.890443\n",
       "27                      71.513421                        69.745614\n",
       "28                      64.500912                        63.580132\n",
       "29                      42.660640                        41.841276\n",
       "..                            ...                              ...\n",
       "170                     37.617755                        38.153606\n",
       "171                     91.251579                        89.385106\n",
       "172                     61.113514                        62.544057\n",
       "173                     72.792859                        71.426229\n",
       "174                     55.322647                        55.058263\n",
       "175                     32.533080                        31.849432\n",
       "176                     88.852689                        89.939942\n",
       "177                     73.498824                        72.077313\n",
       "178                     91.675263                        90.228686\n",
       "179                     64.312637                        63.331022\n",
       "180                     82.394808                        80.791678\n",
       "181                     85.500946                        83.203518\n",
       "182                     65.631843                        67.390388\n",
       "183                     67.418775                        65.742862\n",
       "184                     84.278838                        85.598376\n",
       "185                     65.537837                        67.831994\n",
       "186                     69.027629                        67.576340\n",
       "187                     69.217449                        71.273366\n",
       "188                     60.971091                        60.324712\n",
       "189                     54.851829                        53.869325\n",
       "190                     59.182613                        58.524323\n",
       "191                     61.960882                        64.231216\n",
       "192                     61.440917                        60.323550\n",
       "193                     73.404817                        72.518919\n",
       "194                     74.628471                        73.571976\n",
       "195                     62.006470                        61.128659\n",
       "196                     65.114154                        66.988415\n",
       "197                     70.204411                        69.416362\n",
       "198                     78.724400                        79.890321\n",
       "199                     96.524290                        97.543472\n",
       "\n",
       "[200 rows x 2 columns]"
      ]
     },
     "execution_count": 23,
     "metadata": {},
     "output_type": "execute_result"
    }
   ],
   "source": [
    "compare_two_perdictions = pd.DataFrame({'With test preparation course':prediction,'Without test preparation course':prediction1})\n",
    "compare_two_perdictions"
   ]
  },
  {
   "cell_type": "markdown",
   "metadata": {},
   "source": [
    "## #Prediction of Reading Score"
   ]
  },
  {
   "cell_type": "code",
   "execution_count": 24,
   "metadata": {},
   "outputs": [],
   "source": [
    "#features\n",
    "X = df[['test preparation course_mapped','gender_mapped','writing score','math score','grade_mapped','pass/fail_mapped']]\n",
    "# target values \n",
    "y = df['reading score']"
   ]
  },
  {
   "cell_type": "code",
   "execution_count": 25,
   "metadata": {},
   "outputs": [],
   "source": [
    "X_train,X_test,y_train,y_test=tt(X,y,test_size=0.33,random_state=234)"
   ]
  },
  {
   "cell_type": "code",
   "execution_count": 26,
   "metadata": {},
   "outputs": [
    {
     "data": {
      "text/plain": [
       "LinearRegression(copy_X=True, fit_intercept=True, n_jobs=None,\n",
       "         normalize=False)"
      ]
     },
     "execution_count": 26,
     "metadata": {},
     "output_type": "execute_result"
    }
   ],
   "source": [
    "model.fit(X_train,y_train)"
   ]
  },
  {
   "cell_type": "code",
   "execution_count": 27,
   "metadata": {},
   "outputs": [
    {
     "data": {
      "text/plain": [
       "0.927515936536788"
      ]
     },
     "execution_count": 27,
     "metadata": {},
     "output_type": "execute_result"
    }
   ],
   "source": [
    "model.score(X_test,y_test)"
   ]
  },
  {
   "cell_type": "code",
   "execution_count": 28,
   "metadata": {},
   "outputs": [
    {
     "data": {
      "text/plain": [
       "array([53.77044959, 87.29843982, 76.46650945, 68.96232409, 65.65581941,\n",
       "       70.55540356, 78.46959929, 79.26383091, 53.00907876, 90.46618745,\n",
       "       75.3901475 , 47.66662344, 85.59185929, 75.90797925, 94.00839355,\n",
       "       49.12206009, 79.85218255, 36.51773269, 72.29525326, 66.24417105,\n",
       "       87.26861838, 75.61380343, 60.49478232, 67.15195451, 72.1794187 ,\n",
       "       72.66971174, 69.16820408, 69.55067573, 41.29171951, 71.43793102,\n",
       "       85.40778758, 76.67700565, 74.07007095, 56.01035509, 67.73054337,\n",
       "       92.24100513, 75.66426465, 80.98590466, 66.2848695 , 57.33043164,\n",
       "       87.24569588, 90.47595022, 65.53022209, 62.98409527, 63.38609247,\n",
       "       80.12912873, 75.76693948, 75.37008883, 64.84381184, 66.20458684,\n",
       "       71.6793629 , 78.29640457, 35.73326383, 64.26861993, 64.91433173,\n",
       "       79.57578268, 73.16000477, 56.22424825, 55.52006206, 53.8685082 ,\n",
       "       50.4243607 , 59.11962833, 59.98492614, 72.75339135, 64.56741197,\n",
       "       82.09263436, 76.52386961, 41.33241795, 73.30337804, 65.43216348,\n",
       "       86.13951249, 84.30500114, 65.82439791, 68.94454814, 47.71193811,\n",
       "       68.20306046, 85.38024886, 77.45685828, 71.63404823, 57.98590621,\n",
       "       83.35423652, 50.1577236 , 77.22004263, 85.12677148, 87.42403715,\n",
       "       77.26535729, 26.81434027, 64.98256889, 54.84909426, 58.68780968,\n",
       "       76.60415227, 64.07250272, 71.1437552 , 75.47043016, 70.33514458,\n",
       "       65.44993943, 74.85225707, 64.09027866, 46.63095994, 58.40567936,\n",
       "       91.18989918, 67.56196488, 75.51574482, 54.68051577, 78.37154068,\n",
       "       68.58213516, 59.04910844, 64.4240387 , 76.425811  , 69.61779866,\n",
       "       69.91197448, 69.0603827 , 38.79833663, 75.19174756, 68.42671639,\n",
       "       97.74443414, 69.32362285, 49.95184361, 75.37470505, 74.19566827,\n",
       "       62.35042897, 60.67312358, 76.07427502, 75.64134215, 64.78645168,\n",
       "       70.26462469, 74.60106242, 75.30185166, 73.07743939, 46.46238145,\n",
       "       87.14763727, 68.07979663, 57.81732772, 73.82120979, 66.95812002,\n",
       "       67.10149329, 71.67474668, 83.78377243, 80.9411363 , 66.70464264,\n",
       "       64.91204901, 63.54490819, 80.58390747, 75.53866732, 79.38942824,\n",
       "       72.93634884, 77.26535729, 58.62933529, 38.89639524, 48.38057241,\n",
       "       74.78401991, 74.0402495 , 53.53363393, 89.86005986, 61.65370965,\n",
       "       79.93301152, 48.40811113, 75.96305669, 70.01003309, 80.88784606,\n",
       "       92.70609295, 60.74364347, 70.2061503 , 65.37480332, 41.78201254,\n",
       "       86.5042082 , 75.221569  , 55.71617927, 78.98281482, 85.2999662 ,\n",
       "       87.22791993, 76.88628259, 54.09216413, 76.94364275, 70.69416061,\n",
       "       97.48007977, 56.40720574, 83.82447088, 56.30453091, 46.82707715,\n",
       "       54.27851857, 70.32198486, 72.68748768, 55.5498835 , 52.56620759,\n",
       "       85.67214195, 92.80415155, 56.99555738, 77.69829016, 50.55224075,\n",
       "       73.84641501, 35.28595197, 70.52786484, 96.7661308 , 56.07876778,\n",
       "       69.95267293, 69.46237989, 73.91465218, 50.27355815, 98.56848721,\n",
       "       52.63672748, 71.1437552 , 51.71350158, 77.12198402, 74.75648119,\n",
       "       88.5755352 , 54.56929744, 80.88839236, 40.71652759, 72.95184206,\n",
       "       51.65614141, 47.47050623, 50.0223635 , 49.38869719, 32.65381204,\n",
       "       54.02392697, 46.75655727, 48.30028975, 62.73290062, 96.79366952,\n",
       "       93.64369784, 75.81968342, 75.34716633, 50.96973117, 62.67214351,\n",
       "       82.9144047 , 88.55775926, 52.39991182, 90.436366  , 67.24025034,\n",
       "       56.92042127, 75.17625434, 66.116291  , 53.99410552, 77.484397  ,\n",
       "       78.49252179, 67.90888464, 80.24496328, 91.0820778 , 79.75412395,\n",
       "       68.57008966, 37.72197468, 88.82439636, 47.59610356, 51.04025106,\n",
       "       71.53598963, 56.79944017, 24.15466163, 52.42745054, 68.31549806,\n",
       "       77.82388749, 75.7921447 , 64.39421725, 54.63981732, 65.6162352 ,\n",
       "       72.08475705, 78.37154068, 83.11052191, 82.06688283, 77.63981577,\n",
       "       92.23872241, 82.46709284, 76.55140833, 71.55148285, 73.30337804,\n",
       "       69.23872396, 82.58292739, 95.36577159, 70.4751209 , 97.15836523,\n",
       "       66.25733078, 53.55140988, 69.8414546 , 56.08087498, 80.49561163,\n",
       "       64.19810004, 57.29949597, 74.5879027 , 68.81895082, 73.17778072,\n",
       "       62.15431175, 63.06437793, 57.17389864, 54.60023311, 72.65766624,\n",
       "       71.77742151, 82.31629029, 81.40567781, 85.76043779, 74.53054254,\n",
       "       81.72739235, 74.5735237 , 88.33410332, 87.90228468, 58.61957252,\n",
       "       65.19646205, 57.45602897, 69.42168145, 73.59293764, 74.01732701,\n",
       "       79.19331103, 83.43451918, 94.63404668, 68.84648954, 70.94763799,\n",
       "       62.61706607, 71.24181381, 74.85225707, 81.86897843, 68.93138842,\n",
       "       67.99378352, 54.5021745 , 72.24993859, 65.17868611, 72.64217302,\n",
       "       90.79766476, 44.95952294, 65.07086473, 55.66110183, 78.67547927,\n",
       "       53.50609521, 72.47699148, 67.99378352, 66.6639442 , 63.45661236,\n",
       "       66.35772288, 69.1584413 , 71.43793102, 62.60909049, 88.67359381])"
      ]
     },
     "execution_count": 28,
     "metadata": {},
     "output_type": "execute_result"
    }
   ],
   "source": [
    "read_prediction=model.predict(X_test)\n",
    "read_prediction"
   ]
  },
  {
   "cell_type": "code",
   "execution_count": 29,
   "metadata": {},
   "outputs": [
    {
     "data": {
      "image/png": "[encoded data removed]",
      "text/plain": [
       "<Figure size 432x288 with 1 Axes>"
      ]
     },
     "metadata": {
      "needs_background": "light"
     },
     "output_type": "display_data"
    }
   ],
   "source": [
    "plt.scatter(y_test, read_prediction)\n",
    "plt.xlabel(\"True Values\")\n",
    "plt.ylabel(\"Predictions\")\n",
    "plt.show()"
   ]
  },
  {
   "cell_type": "markdown",
   "metadata": {},
   "source": [
    "### Fitting X and y in RandomForestClassifier"
   ]
  },
  {
   "cell_type": "code",
   "execution_count": 30,
   "metadata": {},
   "outputs": [
    {
     "data": {
      "text/plain": [
       "RandomForestClassifier(bootstrap=True, class_weight=None, criterion='gini',\n",
       "            max_depth=2, max_features='auto', max_leaf_nodes=None,\n",
       "            min_impurity_decrease=0.0, min_impurity_split=None,\n",
       "            min_samples_leaf=1, min_samples_split=2,\n",
       "            min_weight_fraction_leaf=0.0, n_estimators=100, n_jobs=None,\n",
       "            oob_score=False, random_state=0, verbose=0, warm_start=False)"
      ]
     },
     "execution_count": 30,
     "metadata": {},
     "output_type": "execute_result"
    }
   ],
   "source": [
    "clf = RandomForestClassifier(n_estimators=100, max_depth=2,random_state=0);\n",
    "clf.fit(X, y)"
   ]
  },
  {
   "cell_type": "markdown",
   "metadata": {},
   "source": [
    "### Checking the important features"
   ]
  },
  {
   "cell_type": "code",
   "execution_count": 31,
   "metadata": {},
   "outputs": [
    {
     "data": {
      "text/html": [
       "<div>\n",
       "<style scoped>\n",
       "    .dataframe tbody tr th:only-of-type {\n",
       "        vertical-align: middle;\n",
       "    }\n",
       "\n",
       "    .dataframe tbody tr th {\n",
       "        vertical-align: top;\n",
       "    }\n",
       "\n",
       "    .dataframe thead th {\n",
       "        text-align: right;\n",
       "    }\n",
       "</style>\n",
       "<table border=\"1\" class=\"dataframe\">\n",
       "  <thead>\n",
       "    <tr style=\"text-align: right;\">\n",
       "      <th></th>\n",
       "      <th>feature</th>\n",
       "      <th>importance</th>\n",
       "    </tr>\n",
       "  </thead>\n",
       "  <tbody>\n",
       "    <tr>\n",
       "      <th>0</th>\n",
       "      <td>test preparation course_mapped</td>\n",
       "      <td>0.021354</td>\n",
       "    </tr>\n",
       "    <tr>\n",
       "      <th>1</th>\n",
       "      <td>gender_mapped</td>\n",
       "      <td>0.032109</td>\n",
       "    </tr>\n",
       "    <tr>\n",
       "      <th>2</th>\n",
       "      <td>writing score</td>\n",
       "      <td>0.376985</td>\n",
       "    </tr>\n",
       "    <tr>\n",
       "      <th>3</th>\n",
       "      <td>math score</td>\n",
       "      <td>0.198998</td>\n",
       "    </tr>\n",
       "    <tr>\n",
       "      <th>4</th>\n",
       "      <td>grade_mapped</td>\n",
       "      <td>0.322099</td>\n",
       "    </tr>\n",
       "    <tr>\n",
       "      <th>5</th>\n",
       "      <td>pass/fail_mapped</td>\n",
       "      <td>0.048454</td>\n",
       "    </tr>\n",
       "  </tbody>\n",
       "</table>\n",
       "</div>"
      ],
      "text/plain": [
       "                          feature  importance\n",
       "0  test preparation course_mapped    0.021354\n",
       "1                   gender_mapped    0.032109\n",
       "2                   writing score    0.376985\n",
       "3                      math score    0.198998\n",
       "4                    grade_mapped    0.322099\n",
       "5                pass/fail_mapped    0.048454"
      ]
     },
     "execution_count": 31,
     "metadata": {},
     "output_type": "execute_result"
    }
   ],
   "source": [
    "feature=['test preparation course_mapped','gender_mapped','writing score','math score','grade_mapped','pass/fail_mapped']\n",
    "feature_imp=pd.DataFrame({'feature':feature,'importance':clf.feature_importances_})\n",
    "feature_imp"
   ]
  },
  {
   "cell_type": "code",
   "execution_count": 32,
   "metadata": {},
   "outputs": [
    {
     "data": {
      "text/plain": [
       "<matplotlib.axes._subplots.AxesSubplot at 0xe731550>"
      ]
     },
     "execution_count": 32,
     "metadata": {},
     "output_type": "execute_result"
    },
    {
     "data": {
      "image/png": "[encoded data removed]",
      "text/plain": [
       "<Figure size 432x288 with 1 Axes>"
      ]
     },
     "metadata": {
      "needs_background": "light"
     },
     "output_type": "display_data"
    }
   ],
   "source": [
    "feature_imp.plot.bar()"
   ]
  },
  {
   "cell_type": "markdown",
   "metadata": {},
   "source": [
    "#### Since the least important feature is test preparation course_mapped lets remove that feature"
   ]
  },
  {
   "cell_type": "markdown",
   "metadata": {},
   "source": [
    "### Removing the least important feature i.e test preparation course_mapped and fitting new features in RandomForestClassifier"
   ]
  },
  {
   "cell_type": "code",
   "execution_count": 33,
   "metadata": {},
   "outputs": [
    {
     "data": {
      "text/plain": [
       "RandomForestClassifier(bootstrap=True, class_weight=None, criterion='gini',\n",
       "            max_depth=2, max_features='auto', max_leaf_nodes=None,\n",
       "            min_impurity_decrease=0.0, min_impurity_split=None,\n",
       "            min_samples_leaf=1, min_samples_split=2,\n",
       "            min_weight_fraction_leaf=0.0, n_estimators=100, n_jobs=None,\n",
       "            oob_score=False, random_state=0, verbose=0, warm_start=False)"
      ]
     },
     "execution_count": 33,
     "metadata": {},
     "output_type": "execute_result"
    }
   ],
   "source": [
    "X1=df[['gender_mapped','writing score','reading score','grade_mapped','pass/fail_mapped']]\n",
    "clf.fit(X1,y)"
   ]
  },
  {
   "cell_type": "markdown",
   "metadata": {},
   "source": [
    "### Again, Checking important features"
   ]
  },
  {
   "cell_type": "code",
   "execution_count": 34,
   "metadata": {},
   "outputs": [
    {
     "data": {
      "text/html": [
       "<div>\n",
       "<style scoped>\n",
       "    .dataframe tbody tr th:only-of-type {\n",
       "        vertical-align: middle;\n",
       "    }\n",
       "\n",
       "    .dataframe tbody tr th {\n",
       "        vertical-align: top;\n",
       "    }\n",
       "\n",
       "    .dataframe thead th {\n",
       "        text-align: right;\n",
       "    }\n",
       "</style>\n",
       "<table border=\"1\" class=\"dataframe\">\n",
       "  <thead>\n",
       "    <tr style=\"text-align: right;\">\n",
       "      <th></th>\n",
       "      <th>feature</th>\n",
       "      <th>importance</th>\n",
       "    </tr>\n",
       "  </thead>\n",
       "  <tbody>\n",
       "    <tr>\n",
       "      <th>0</th>\n",
       "      <td>gender_mapped</td>\n",
       "      <td>0.011718</td>\n",
       "    </tr>\n",
       "    <tr>\n",
       "      <th>1</th>\n",
       "      <td>writing score</td>\n",
       "      <td>0.219153</td>\n",
       "    </tr>\n",
       "    <tr>\n",
       "      <th>2</th>\n",
       "      <td>math score</td>\n",
       "      <td>0.540799</td>\n",
       "    </tr>\n",
       "    <tr>\n",
       "      <th>3</th>\n",
       "      <td>grade_mapped</td>\n",
       "      <td>0.199431</td>\n",
       "    </tr>\n",
       "    <tr>\n",
       "      <th>4</th>\n",
       "      <td>pass/fail_mapped</td>\n",
       "      <td>0.028900</td>\n",
       "    </tr>\n",
       "  </tbody>\n",
       "</table>\n",
       "</div>"
      ],
      "text/plain": [
       "            feature  importance\n",
       "0     gender_mapped    0.011718\n",
       "1     writing score    0.219153\n",
       "2        math score    0.540799\n",
       "3      grade_mapped    0.199431\n",
       "4  pass/fail_mapped    0.028900"
      ]
     },
     "execution_count": 34,
     "metadata": {},
     "output_type": "execute_result"
    }
   ],
   "source": [
    "feature1=['gender_mapped','writing score','math score','grade_mapped','pass/fail_mapped']\n",
    "feature_imp1=pd.DataFrame({'feature':feature1,'importance':clf.feature_importances_})\n",
    "feature_imp1"
   ]
  },
  {
   "cell_type": "code",
   "execution_count": 35,
   "metadata": {},
   "outputs": [
    {
     "data": {
      "text/plain": [
       "<matplotlib.axes._subplots.AxesSubplot at 0xe6e8750>"
      ]
     },
     "execution_count": 35,
     "metadata": {},
     "output_type": "execute_result"
    },
    {
     "data": {
      "image/png": "[encoded data removed]",
      "text/plain": [
       "<Figure size 432x288 with 1 Axes>"
      ]
     },
     "metadata": {
      "needs_background": "light"
     },
     "output_type": "display_data"
    }
   ],
   "source": [
    "feature_imp1.plot.bar()"
   ]
  },
  {
   "cell_type": "markdown",
   "metadata": {},
   "source": [
    "### Prediciting reading score without test preparation course"
   ]
  },
  {
   "cell_type": "code",
   "execution_count": 36,
   "metadata": {},
   "outputs": [],
   "source": [
    "X1_train,X1_test,y1_train,y1_test=tt(X1,y,test_size=0.33,random_state=123)"
   ]
  },
  {
   "cell_type": "markdown",
   "metadata": {},
   "source": [
    "### Fitting X1_train and y1_train in linear model"
   ]
  },
  {
   "cell_type": "code",
   "execution_count": 37,
   "metadata": {},
   "outputs": [
    {
     "data": {
      "text/plain": [
       "LinearRegression(copy_X=True, fit_intercept=True, n_jobs=None,\n",
       "         normalize=False)"
      ]
     },
     "execution_count": 37,
     "metadata": {},
     "output_type": "execute_result"
    }
   ],
   "source": [
    "model.fit(X1_train,y1_train)"
   ]
  },
  {
   "cell_type": "code",
   "execution_count": 38,
   "metadata": {},
   "outputs": [
    {
     "data": {
      "text/plain": [
       "1.0"
      ]
     },
     "execution_count": 38,
     "metadata": {},
     "output_type": "execute_result"
    }
   ],
   "source": [
    "model.score(X1_test,y1_test)"
   ]
  },
  {
   "cell_type": "code",
   "execution_count": 39,
   "metadata": {},
   "outputs": [
    {
     "data": {
      "text/plain": [
       "array([ 37.,  69.,  55.,  76.,  66.,  74.,  75.,  54.,  70.,  71.,  55.,\n",
       "        85.,  61.,  83.,  74.,  23.,  58.,  79.,  85.,  73.,  74.,  87.,\n",
       "        95.,  29., 100.,  87.,  79.,  80.,  73.,  43.,  90.,  65., 100.,\n",
       "        72.,  62.,  73.,  58.,  39.,  61.,  57.,  73.,  70.,  88.,  76.,\n",
       "        77.,  76.,  38.,  78.,  71.,  78.,  88.,  77.,  79.,  61.,  78.,\n",
       "        69.,  53.,  76.,  54.,  67.,  85.,  60.,  86.,  60.,  50.,  84.,\n",
       "        81.,  77.,  70.,  88.,  80.,  52.,  61.,  68.,  67.,  81.,  72.,\n",
       "        87.,  52.,  58.,  66.,  75.,  75.,  81.,  81., 100.,  67.,  51.,\n",
       "        83.,  83.,  52.,  59.,  71.,  73.,  79.,  81.,  80.,  63.,  81.,\n",
       "        70.,  64.,  75.,  86.,  74.,  74.,  43.,  76.,  63.,  68.,  74.,\n",
       "        86.,  45.,  82.,  66.,  67.,  74.,  96.,  53.,  44.,  82.,  92.,\n",
       "        77.,  81.,  51., 100.,  91.,  66.,  44.,  84.,  78.,  52.,  58.,\n",
       "        70.,  62.,  85.,  82.,  70.,  75.,  84.,  50.,  46.,  68.,  79.,\n",
       "        55.,  92.,  59.,  82.,  41.,  68.,  70.,  65.,  52.,  72.,  58.,\n",
       "        43.,  60.,  71.,  84.,  82.,  74.,  41.,  54.,  76.,  79.,  65.,\n",
       "        74.,  73.,  81.,  53.,  68.,  45.,  85.,  64.,  66.,  55.,  43.,\n",
       "        84.,  67.,  90.,  72.,  89.,  89.,  77.,  72.,  97.,  82.,  57.,\n",
       "        67.,  68.,  47.,  64.,  74.,  60.,  72.,  73.,  68.,  77.,  66.,\n",
       "        79., 100.,  49.,  99.,  71.,  61.,  90.,  65.,  34.,  73.,  77.,\n",
       "        72.,  41.,  64.,  84.,  64.,  74.,  74.,  58.,  72.,  78.,  53.,\n",
       "        70.,  57.,  63.,  87.,  52.,  60.,  72.,  55.,  39.,  56.,  72.,\n",
       "        62.,  45.,  31.,  49.,  80.,  78.,  82.,  66.,  17.,  70.,  79.,\n",
       "        63.,  67.,  60.,  70.,  52.,  70.,  86.,  50.,  62.,  91.,  82.,\n",
       "        70.,  77.,  81.,  63.,  73.,  78.,  73.,  70.,  63.,  80.,  82.,\n",
       "        52.,  76.,  72.,  94.,  65.,  34.,  63.,  58.,  55.,  60.,  74.,\n",
       "        67.,  61.,  77.,  99.,  76.,  57.,  57.,  63.,  66.,  58.,  77.,\n",
       "        60.,  54.,  79., 100.,  61.,  72.,  82.,  48.,  68.,  72.,  77.,\n",
       "       100.,  73.,  70.,  69.,  51.,  64.,  77.,  78.,  55.,  64.,  87.,\n",
       "        51.,  61.,  43.,  93.,  61.,  86.,  67.,  74.,  74.,  60.,  52.,\n",
       "        74.,  64.,  79.,  47.,  58.,  62.,  84.,  41.,  73.,  69.,  78.])"
      ]
     },
     "execution_count": 39,
     "metadata": {},
     "output_type": "execute_result"
    }
   ],
   "source": [
    "prediction1=model.predict(X1_test)\n",
    "prediction1"
   ]
  },
  {
   "cell_type": "markdown",
   "metadata": {},
   "source": [
    "### Comparing Predicitons with and without test preparation course"
   ]
  },
  {
   "cell_type": "code",
   "execution_count": 40,
   "metadata": {},
   "outputs": [
    {
     "data": {
      "text/html": [
       "<div>\n",
       "<style scoped>\n",
       "    .dataframe tbody tr th:only-of-type {\n",
       "        vertical-align: middle;\n",
       "    }\n",
       "\n",
       "    .dataframe tbody tr th {\n",
       "        vertical-align: top;\n",
       "    }\n",
       "\n",
       "    .dataframe thead th {\n",
       "        text-align: right;\n",
       "    }\n",
       "</style>\n",
       "<table border=\"1\" class=\"dataframe\">\n",
       "  <thead>\n",
       "    <tr style=\"text-align: right;\">\n",
       "      <th></th>\n",
       "      <th>With test preparation course</th>\n",
       "      <th>Without test preparation course</th>\n",
       "    </tr>\n",
       "  </thead>\n",
       "  <tbody>\n",
       "    <tr>\n",
       "      <th>0</th>\n",
       "      <td>53.770450</td>\n",
       "      <td>37.0</td>\n",
       "    </tr>\n",
       "    <tr>\n",
       "      <th>1</th>\n",
       "      <td>87.298440</td>\n",
       "      <td>69.0</td>\n",
       "    </tr>\n",
       "    <tr>\n",
       "      <th>2</th>\n",
       "      <td>76.466509</td>\n",
       "      <td>55.0</td>\n",
       "    </tr>\n",
       "    <tr>\n",
       "      <th>3</th>\n",
       "      <td>68.962324</td>\n",
       "      <td>76.0</td>\n",
       "    </tr>\n",
       "    <tr>\n",
       "      <th>4</th>\n",
       "      <td>65.655819</td>\n",
       "      <td>66.0</td>\n",
       "    </tr>\n",
       "    <tr>\n",
       "      <th>5</th>\n",
       "      <td>70.555404</td>\n",
       "      <td>74.0</td>\n",
       "    </tr>\n",
       "    <tr>\n",
       "      <th>6</th>\n",
       "      <td>78.469599</td>\n",
       "      <td>75.0</td>\n",
       "    </tr>\n",
       "    <tr>\n",
       "      <th>7</th>\n",
       "      <td>79.263831</td>\n",
       "      <td>54.0</td>\n",
       "    </tr>\n",
       "    <tr>\n",
       "      <th>8</th>\n",
       "      <td>53.009079</td>\n",
       "      <td>70.0</td>\n",
       "    </tr>\n",
       "    <tr>\n",
       "      <th>9</th>\n",
       "      <td>90.466187</td>\n",
       "      <td>71.0</td>\n",
       "    </tr>\n",
       "    <tr>\n",
       "      <th>10</th>\n",
       "      <td>75.390147</td>\n",
       "      <td>55.0</td>\n",
       "    </tr>\n",
       "    <tr>\n",
       "      <th>11</th>\n",
       "      <td>47.666623</td>\n",
       "      <td>85.0</td>\n",
       "    </tr>\n",
       "    <tr>\n",
       "      <th>12</th>\n",
       "      <td>85.591859</td>\n",
       "      <td>61.0</td>\n",
       "    </tr>\n",
       "    <tr>\n",
       "      <th>13</th>\n",
       "      <td>75.907979</td>\n",
       "      <td>83.0</td>\n",
       "    </tr>\n",
       "    <tr>\n",
       "      <th>14</th>\n",
       "      <td>94.008394</td>\n",
       "      <td>74.0</td>\n",
       "    </tr>\n",
       "    <tr>\n",
       "      <th>15</th>\n",
       "      <td>49.122060</td>\n",
       "      <td>23.0</td>\n",
       "    </tr>\n",
       "    <tr>\n",
       "      <th>16</th>\n",
       "      <td>79.852183</td>\n",
       "      <td>58.0</td>\n",
       "    </tr>\n",
       "    <tr>\n",
       "      <th>17</th>\n",
       "      <td>36.517733</td>\n",
       "      <td>79.0</td>\n",
       "    </tr>\n",
       "    <tr>\n",
       "      <th>18</th>\n",
       "      <td>72.295253</td>\n",
       "      <td>85.0</td>\n",
       "    </tr>\n",
       "    <tr>\n",
       "      <th>19</th>\n",
       "      <td>66.244171</td>\n",
       "      <td>73.0</td>\n",
       "    </tr>\n",
       "    <tr>\n",
       "      <th>20</th>\n",
       "      <td>87.268618</td>\n",
       "      <td>74.0</td>\n",
       "    </tr>\n",
       "    <tr>\n",
       "      <th>21</th>\n",
       "      <td>75.613803</td>\n",
       "      <td>87.0</td>\n",
       "    </tr>\n",
       "    <tr>\n",
       "      <th>22</th>\n",
       "      <td>60.494782</td>\n",
       "      <td>95.0</td>\n",
       "    </tr>\n",
       "    <tr>\n",
       "      <th>23</th>\n",
       "      <td>67.151955</td>\n",
       "      <td>29.0</td>\n",
       "    </tr>\n",
       "    <tr>\n",
       "      <th>24</th>\n",
       "      <td>72.179419</td>\n",
       "      <td>100.0</td>\n",
       "    </tr>\n",
       "    <tr>\n",
       "      <th>25</th>\n",
       "      <td>72.669712</td>\n",
       "      <td>87.0</td>\n",
       "    </tr>\n",
       "    <tr>\n",
       "      <th>26</th>\n",
       "      <td>69.168204</td>\n",
       "      <td>79.0</td>\n",
       "    </tr>\n",
       "    <tr>\n",
       "      <th>27</th>\n",
       "      <td>69.550676</td>\n",
       "      <td>80.0</td>\n",
       "    </tr>\n",
       "    <tr>\n",
       "      <th>28</th>\n",
       "      <td>41.291720</td>\n",
       "      <td>73.0</td>\n",
       "    </tr>\n",
       "    <tr>\n",
       "      <th>29</th>\n",
       "      <td>71.437931</td>\n",
       "      <td>43.0</td>\n",
       "    </tr>\n",
       "    <tr>\n",
       "      <th>...</th>\n",
       "      <td>...</td>\n",
       "      <td>...</td>\n",
       "    </tr>\n",
       "    <tr>\n",
       "      <th>300</th>\n",
       "      <td>79.193311</td>\n",
       "      <td>69.0</td>\n",
       "    </tr>\n",
       "    <tr>\n",
       "      <th>301</th>\n",
       "      <td>83.434519</td>\n",
       "      <td>51.0</td>\n",
       "    </tr>\n",
       "    <tr>\n",
       "      <th>302</th>\n",
       "      <td>94.634047</td>\n",
       "      <td>64.0</td>\n",
       "    </tr>\n",
       "    <tr>\n",
       "      <th>303</th>\n",
       "      <td>68.846490</td>\n",
       "      <td>77.0</td>\n",
       "    </tr>\n",
       "    <tr>\n",
       "      <th>304</th>\n",
       "      <td>70.947638</td>\n",
       "      <td>78.0</td>\n",
       "    </tr>\n",
       "    <tr>\n",
       "      <th>305</th>\n",
       "      <td>62.617066</td>\n",
       "      <td>55.0</td>\n",
       "    </tr>\n",
       "    <tr>\n",
       "      <th>306</th>\n",
       "      <td>71.241814</td>\n",
       "      <td>64.0</td>\n",
       "    </tr>\n",
       "    <tr>\n",
       "      <th>307</th>\n",
       "      <td>74.852257</td>\n",
       "      <td>87.0</td>\n",
       "    </tr>\n",
       "    <tr>\n",
       "      <th>308</th>\n",
       "      <td>81.868978</td>\n",
       "      <td>51.0</td>\n",
       "    </tr>\n",
       "    <tr>\n",
       "      <th>309</th>\n",
       "      <td>68.931388</td>\n",
       "      <td>61.0</td>\n",
       "    </tr>\n",
       "    <tr>\n",
       "      <th>310</th>\n",
       "      <td>67.993784</td>\n",
       "      <td>43.0</td>\n",
       "    </tr>\n",
       "    <tr>\n",
       "      <th>311</th>\n",
       "      <td>54.502175</td>\n",
       "      <td>93.0</td>\n",
       "    </tr>\n",
       "    <tr>\n",
       "      <th>312</th>\n",
       "      <td>72.249939</td>\n",
       "      <td>61.0</td>\n",
       "    </tr>\n",
       "    <tr>\n",
       "      <th>313</th>\n",
       "      <td>65.178686</td>\n",
       "      <td>86.0</td>\n",
       "    </tr>\n",
       "    <tr>\n",
       "      <th>314</th>\n",
       "      <td>72.642173</td>\n",
       "      <td>67.0</td>\n",
       "    </tr>\n",
       "    <tr>\n",
       "      <th>315</th>\n",
       "      <td>90.797665</td>\n",
       "      <td>74.0</td>\n",
       "    </tr>\n",
       "    <tr>\n",
       "      <th>316</th>\n",
       "      <td>44.959523</td>\n",
       "      <td>74.0</td>\n",
       "    </tr>\n",
       "    <tr>\n",
       "      <th>317</th>\n",
       "      <td>65.070865</td>\n",
       "      <td>60.0</td>\n",
       "    </tr>\n",
       "    <tr>\n",
       "      <th>318</th>\n",
       "      <td>55.661102</td>\n",
       "      <td>52.0</td>\n",
       "    </tr>\n",
       "    <tr>\n",
       "      <th>319</th>\n",
       "      <td>78.675479</td>\n",
       "      <td>74.0</td>\n",
       "    </tr>\n",
       "    <tr>\n",
       "      <th>320</th>\n",
       "      <td>53.506095</td>\n",
       "      <td>64.0</td>\n",
       "    </tr>\n",
       "    <tr>\n",
       "      <th>321</th>\n",
       "      <td>72.476991</td>\n",
       "      <td>79.0</td>\n",
       "    </tr>\n",
       "    <tr>\n",
       "      <th>322</th>\n",
       "      <td>67.993784</td>\n",
       "      <td>47.0</td>\n",
       "    </tr>\n",
       "    <tr>\n",
       "      <th>323</th>\n",
       "      <td>66.663944</td>\n",
       "      <td>58.0</td>\n",
       "    </tr>\n",
       "    <tr>\n",
       "      <th>324</th>\n",
       "      <td>63.456612</td>\n",
       "      <td>62.0</td>\n",
       "    </tr>\n",
       "    <tr>\n",
       "      <th>325</th>\n",
       "      <td>66.357723</td>\n",
       "      <td>84.0</td>\n",
       "    </tr>\n",
       "    <tr>\n",
       "      <th>326</th>\n",
       "      <td>69.158441</td>\n",
       "      <td>41.0</td>\n",
       "    </tr>\n",
       "    <tr>\n",
       "      <th>327</th>\n",
       "      <td>71.437931</td>\n",
       "      <td>73.0</td>\n",
       "    </tr>\n",
       "    <tr>\n",
       "      <th>328</th>\n",
       "      <td>62.609090</td>\n",
       "      <td>69.0</td>\n",
       "    </tr>\n",
       "    <tr>\n",
       "      <th>329</th>\n",
       "      <td>88.673594</td>\n",
       "      <td>78.0</td>\n",
       "    </tr>\n",
       "  </tbody>\n",
       "</table>\n",
       "<p>330 rows × 2 columns</p>\n",
       "</div>"
      ],
      "text/plain": [
       "     With test preparation course  Without test preparation course\n",
       "0                       53.770450                             37.0\n",
       "1                       87.298440                             69.0\n",
       "2                       76.466509                             55.0\n",
       "3                       68.962324                             76.0\n",
       "4                       65.655819                             66.0\n",
       "5                       70.555404                             74.0\n",
       "6                       78.469599                             75.0\n",
       "7                       79.263831                             54.0\n",
       "8                       53.009079                             70.0\n",
       "9                       90.466187                             71.0\n",
       "10                      75.390147                             55.0\n",
       "11                      47.666623                             85.0\n",
       "12                      85.591859                             61.0\n",
       "13                      75.907979                             83.0\n",
       "14                      94.008394                             74.0\n",
       "15                      49.122060                             23.0\n",
       "16                      79.852183                             58.0\n",
       "17                      36.517733                             79.0\n",
       "18                      72.295253                             85.0\n",
       "19                      66.244171                             73.0\n",
       "20                      87.268618                             74.0\n",
       "21                      75.613803                             87.0\n",
       "22                      60.494782                             95.0\n",
       "23                      67.151955                             29.0\n",
       "24                      72.179419                            100.0\n",
       "25                      72.669712                             87.0\n",
       "26                      69.168204                             79.0\n",
       "27                      69.550676                             80.0\n",
       "28                      41.291720                             73.0\n",
       "29                      71.437931                             43.0\n",
       "..                            ...                              ...\n",
       "300                     79.193311                             69.0\n",
       "301                     83.434519                             51.0\n",
       "302                     94.634047                             64.0\n",
       "303                     68.846490                             77.0\n",
       "304                     70.947638                             78.0\n",
       "305                     62.617066                             55.0\n",
       "306                     71.241814                             64.0\n",
       "307                     74.852257                             87.0\n",
       "308                     81.868978                             51.0\n",
       "309                     68.931388                             61.0\n",
       "310                     67.993784                             43.0\n",
       "311                     54.502175                             93.0\n",
       "312                     72.249939                             61.0\n",
       "313                     65.178686                             86.0\n",
       "314                     72.642173                             67.0\n",
       "315                     90.797665                             74.0\n",
       "316                     44.959523                             74.0\n",
       "317                     65.070865                             60.0\n",
       "318                     55.661102                             52.0\n",
       "319                     78.675479                             74.0\n",
       "320                     53.506095                             64.0\n",
       "321                     72.476991                             79.0\n",
       "322                     67.993784                             47.0\n",
       "323                     66.663944                             58.0\n",
       "324                     63.456612                             62.0\n",
       "325                     66.357723                             84.0\n",
       "326                     69.158441                             41.0\n",
       "327                     71.437931                             73.0\n",
       "328                     62.609090                             69.0\n",
       "329                     88.673594                             78.0\n",
       "\n",
       "[330 rows x 2 columns]"
      ]
     },
     "execution_count": 40,
     "metadata": {},
     "output_type": "execute_result"
    }
   ],
   "source": [
    "compare_two_perdictions = pd.DataFrame({'With test preparation course':read_prediction,'Without test preparation course':prediction1})\n",
    "compare_two_perdictions"
   ]
  },
  {
   "cell_type": "markdown",
   "metadata": {},
   "source": [
    "##  #Predicition of Writing Score"
   ]
  },
  {
   "cell_type": "code",
   "execution_count": 41,
   "metadata": {},
   "outputs": [],
   "source": [
    "#features\n",
    "X = df[['test preparation course_mapped','gender_mapped','reading score','math score','grade_mapped','pass/fail_mapped']]\n",
    "# target values \n",
    "y = df['writing score']"
   ]
  },
  {
   "cell_type": "code",
   "execution_count": 42,
   "metadata": {},
   "outputs": [],
   "source": [
    "X_train,X_test,y_train,y_test=tt(X,y,test_size=0.2,random_state=234)"
   ]
  },
  {
   "cell_type": "markdown",
   "metadata": {},
   "source": [
    "### Fitting X_train and y_train in Linear Model`"
   ]
  },
  {
   "cell_type": "code",
   "execution_count": 43,
   "metadata": {},
   "outputs": [
    {
     "data": {
      "text/plain": [
       "LinearRegression(copy_X=True, fit_intercept=True, n_jobs=None,\n",
       "         normalize=False)"
      ]
     },
     "execution_count": 43,
     "metadata": {},
     "output_type": "execute_result"
    }
   ],
   "source": [
    "model.fit(X_train,y_train)"
   ]
  },
  {
   "cell_type": "code",
   "execution_count": 44,
   "metadata": {},
   "outputs": [
    {
     "data": {
      "text/plain": [
       "0.942640330247306"
      ]
     },
     "execution_count": 44,
     "metadata": {},
     "output_type": "execute_result"
    }
   ],
   "source": [
    "model.score(X_test,y_test)"
   ]
  },
  {
   "cell_type": "code",
   "execution_count": 45,
   "metadata": {},
   "outputs": [
    {
     "data": {
      "text/plain": [
       "array([ 50.99098074,  90.89870354,  74.37744064,  71.25691645,\n",
       "        65.74430643,  64.94883747,  77.16888358,  78.23930422,\n",
       "        51.23295377,  90.19534156,  80.0203015 ,  45.55725118,\n",
       "        80.03692338,  78.99232702, 100.26733173,  46.74452968,\n",
       "        78.50841049,  34.17289687,  70.43807326,  65.45044927,\n",
       "        83.19989373,  78.85777388,  61.81737036,  65.03356335,\n",
       "        67.10273882,  69.95415674,  64.17674275,  69.83713242,\n",
       "        35.33542448,  72.10805809,  88.10863727,  75.73724969,\n",
       "        75.52243944,  54.03830343,  68.3441469 ,  94.7167443 ,\n",
       "        71.66642127,  77.81089392,  68.05613515,  54.59542145,\n",
       "        90.45259797,  87.71682771,  68.26526644,  62.17630002,\n",
       "        62.31669856,  83.19989373,  72.45742147,  66.46519723,\n",
       "        65.51180091,  67.54867794,  74.61132282,  72.82894889,\n",
       "        34.56470642,  63.28332141,  67.37184509,  80.35075941,\n",
       "        73.93150152,  52.53947249,  54.00170269,  52.91237657,\n",
       "        49.26548969,  58.3227319 ,  59.9055408 ,  73.2326083 ,\n",
       "        67.91711326,  81.89696756,  79.32278493,  34.00036633,\n",
       "        68.8837361 ,  66.34387061,  86.14479528,  86.00886549,\n",
       "        67.2738927 ,  64.2133435 ,  44.21772426,  71.4705165 ,\n",
       "        84.66950502,  71.97212829,  72.0101057 ,  57.8943216 ,\n",
       "        86.31594916,  45.81450759,  77.34588288,  84.88878403,\n",
       "        87.8147801 ,  77.69524626,  22.16628436,  61.5944311 ,\n",
       "        54.67446836,  57.23908474,  79.83024213,  60.56645662,\n",
       "        70.84757808,  76.58701467,  75.07495721,  68.32077266,\n",
       "        68.61909858,  65.35817584,  44.23541953,  54.38198786,\n",
       "        89.96868145,  63.99974345,  76.37341462,  52.01895522,\n",
       "        79.75119522,  66.47842375,  57.58861458,  67.89820778,\n",
       "        78.52731597,  70.61507256,  71.87555256,  66.42275107,\n",
       "        34.1962711 ,  72.48079571,  65.80428141,  95.84835013,\n",
       "        68.22866569,  48.39097382,  71.52739938,  69.62369883,\n",
       "        58.74301319,  58.61658906,  74.57334542,  73.28949118,\n",
       "        61.69238349,  69.27416899,  71.40916486,  70.55372092,\n",
       "        65.78658614,  45.52065043,  90.22009245,  64.66065927,\n",
       "        59.17955249,  74.04835939,  66.57637613,  67.72120848,\n",
       "        68.98615724,  84.82880905,  76.11387461,  62.85491111,\n",
       "        58.60846005,  66.32479868,  79.92234911,  75.31330815,\n",
       "        77.40723451,  73.40513884,  78.82117313,  58.84909458,\n",
       "        34.42877663,  46.12021461,  73.83354914,  70.63844679,\n",
       "        57.49066219,  91.89007728,  58.68979055,  77.66821178,\n",
       "        42.24082221,  76.30021312,  72.10805809,  78.14135183,\n",
       "        92.67970082,  61.60256011,  70.3212154 ,  68.71705097,\n",
       "        42.69054987,  89.26531947,  80.17960552,  48.83707939,\n",
       "        71.64167038,  90.91760902,  85.66087875,  75.93177781,\n",
       "        52.31281238,  78.62526836,  63.84628484, 100.03482621,\n",
       "        60.03052767,  81.80486059,  55.86174687,  44.70043058,\n",
       "        55.81930071,  76.47136701,  72.49402222,  56.07087816,\n",
       "        52.64327029,  78.29252685,  96.28998695,  58.61074364,\n",
       "        76.16428333,  52.69309756,  74.99607675,  31.82309075,\n",
       "        69.3911933 , 100.03482621,  50.8600497 ,  67.72567724,\n",
       "        64.31129589,  66.96680903,  45.209098  ,  98.42498282])"
      ]
     },
     "execution_count": 45,
     "metadata": {},
     "output_type": "execute_result"
    }
   ],
   "source": [
    "write_predict=model.predict(X_test)\n",
    "write_predict"
   ]
  },
  {
   "cell_type": "code",
   "execution_count": 46,
   "metadata": {},
   "outputs": [
    {
     "data": {
      "image/png": "[encoded data removed]",
      "text/plain": [
       "<Figure size 432x288 with 1 Axes>"
      ]
     },
     "metadata": {
      "needs_background": "light"
     },
     "output_type": "display_data"
    }
   ],
   "source": [
    "plt.scatter(y_test, write_predict)\n",
    "plt.xlabel(\"True Values\")\n",
    "plt.ylabel(\"Predictions\")\n",
    "plt.show()"
   ]
  },
  {
   "cell_type": "markdown",
   "metadata": {},
   "source": [
    "### Fitting X and y in RandomForestClassifier"
   ]
  },
  {
   "cell_type": "code",
   "execution_count": 47,
   "metadata": {},
   "outputs": [
    {
     "data": {
      "text/plain": [
       "RandomForestClassifier(bootstrap=True, class_weight=None, criterion='gini',\n",
       "            max_depth=2, max_features='auto', max_leaf_nodes=None,\n",
       "            min_impurity_decrease=0.0, min_impurity_split=None,\n",
       "            min_samples_leaf=1, min_samples_split=2,\n",
       "            min_weight_fraction_leaf=0.0, n_estimators=100, n_jobs=None,\n",
       "            oob_score=False, random_state=0, verbose=0, warm_start=False)"
      ]
     },
     "execution_count": 47,
     "metadata": {},
     "output_type": "execute_result"
    }
   ],
   "source": [
    "clf = RandomForestClassifier(n_estimators=100, max_depth=2,random_state=0);\n",
    "clf.fit(X, y)"
   ]
  },
  {
   "cell_type": "markdown",
   "metadata": {},
   "source": [
    "### Checking the important features"
   ]
  },
  {
   "cell_type": "code",
   "execution_count": 48,
   "metadata": {},
   "outputs": [
    {
     "data": {
      "text/html": [
       "<div>\n",
       "<style scoped>\n",
       "    .dataframe tbody tr th:only-of-type {\n",
       "        vertical-align: middle;\n",
       "    }\n",
       "\n",
       "    .dataframe tbody tr th {\n",
       "        vertical-align: top;\n",
       "    }\n",
       "\n",
       "    .dataframe thead th {\n",
       "        text-align: right;\n",
       "    }\n",
       "</style>\n",
       "<table border=\"1\" class=\"dataframe\">\n",
       "  <thead>\n",
       "    <tr style=\"text-align: right;\">\n",
       "      <th></th>\n",
       "      <th>feature</th>\n",
       "      <th>importance</th>\n",
       "    </tr>\n",
       "  </thead>\n",
       "  <tbody>\n",
       "    <tr>\n",
       "      <th>0</th>\n",
       "      <td>test preparation course_mapped</td>\n",
       "      <td>0.027483</td>\n",
       "    </tr>\n",
       "    <tr>\n",
       "      <th>1</th>\n",
       "      <td>gender_mapped</td>\n",
       "      <td>0.030759</td>\n",
       "    </tr>\n",
       "    <tr>\n",
       "      <th>2</th>\n",
       "      <td>reading score</td>\n",
       "      <td>0.372591</td>\n",
       "    </tr>\n",
       "    <tr>\n",
       "      <th>3</th>\n",
       "      <td>math score</td>\n",
       "      <td>0.185739</td>\n",
       "    </tr>\n",
       "    <tr>\n",
       "      <th>4</th>\n",
       "      <td>grade_mapped</td>\n",
       "      <td>0.332022</td>\n",
       "    </tr>\n",
       "    <tr>\n",
       "      <th>5</th>\n",
       "      <td>pass/fail_mapped</td>\n",
       "      <td>0.051405</td>\n",
       "    </tr>\n",
       "  </tbody>\n",
       "</table>\n",
       "</div>"
      ],
      "text/plain": [
       "                          feature  importance\n",
       "0  test preparation course_mapped    0.027483\n",
       "1                   gender_mapped    0.030759\n",
       "2                   reading score    0.372591\n",
       "3                      math score    0.185739\n",
       "4                    grade_mapped    0.332022\n",
       "5                pass/fail_mapped    0.051405"
      ]
     },
     "execution_count": 48,
     "metadata": {},
     "output_type": "execute_result"
    }
   ],
   "source": [
    "feature=['test preparation course_mapped','gender_mapped','reading score','math score','grade_mapped','pass/fail_mapped']\n",
    "feature_imp=pd.DataFrame({'feature':feature,'importance':clf.feature_importances_})\n",
    "feature_imp"
   ]
  },
  {
   "cell_type": "code",
   "execution_count": 49,
   "metadata": {},
   "outputs": [
    {
     "data": {
      "text/plain": [
       "<matplotlib.axes._subplots.AxesSubplot at 0xe80f0d0>"
      ]
     },
     "execution_count": 49,
     "metadata": {},
     "output_type": "execute_result"
    },
    {
     "data": {
      "image/png": "[encoded data removed]",
      "text/plain": [
       "<Figure size 432x288 with 1 Axes>"
      ]
     },
     "metadata": {
      "needs_background": "light"
     },
     "output_type": "display_data"
    }
   ],
   "source": [
    "feature_imp.plot.bar()"
   ]
  },
  {
   "cell_type": "markdown",
   "metadata": {},
   "source": [
    "#### Since the least important feature is test preparation course_mapped and gender_mapped lets remove those feature"
   ]
  },
  {
   "cell_type": "markdown",
   "metadata": {},
   "source": [
    "### Removing the least important features i.e test preparation course_mapped & gender_mapped and fitting new features in RandomForestClassifier"
   ]
  },
  {
   "cell_type": "code",
   "execution_count": 50,
   "metadata": {},
   "outputs": [
    {
     "data": {
      "text/plain": [
       "RandomForestClassifier(bootstrap=True, class_weight=None, criterion='gini',\n",
       "            max_depth=2, max_features='auto', max_leaf_nodes=None,\n",
       "            min_impurity_decrease=0.0, min_impurity_split=None,\n",
       "            min_samples_leaf=1, min_samples_split=2,\n",
       "            min_weight_fraction_leaf=0.0, n_estimators=100, n_jobs=None,\n",
       "            oob_score=False, random_state=0, verbose=0, warm_start=False)"
      ]
     },
     "execution_count": 50,
     "metadata": {},
     "output_type": "execute_result"
    }
   ],
   "source": [
    "X1=df[['reading score','reading score','grade_mapped','pass/fail_mapped']]\n",
    "clf.fit(X1,y)"
   ]
  },
  {
   "cell_type": "markdown",
   "metadata": {},
   "source": [
    "### Again, Checking important features"
   ]
  },
  {
   "cell_type": "code",
   "execution_count": 51,
   "metadata": {},
   "outputs": [
    {
     "data": {
      "text/html": [
       "<div>\n",
       "<style scoped>\n",
       "    .dataframe tbody tr th:only-of-type {\n",
       "        vertical-align: middle;\n",
       "    }\n",
       "\n",
       "    .dataframe tbody tr th {\n",
       "        vertical-align: top;\n",
       "    }\n",
       "\n",
       "    .dataframe thead th {\n",
       "        text-align: right;\n",
       "    }\n",
       "</style>\n",
       "<table border=\"1\" class=\"dataframe\">\n",
       "  <thead>\n",
       "    <tr style=\"text-align: right;\">\n",
       "      <th></th>\n",
       "      <th>feature</th>\n",
       "      <th>importance</th>\n",
       "    </tr>\n",
       "  </thead>\n",
       "  <tbody>\n",
       "    <tr>\n",
       "      <th>0</th>\n",
       "      <td>reading score</td>\n",
       "      <td>0.412440</td>\n",
       "    </tr>\n",
       "    <tr>\n",
       "      <th>1</th>\n",
       "      <td>math score</td>\n",
       "      <td>0.404821</td>\n",
       "    </tr>\n",
       "    <tr>\n",
       "      <th>2</th>\n",
       "      <td>grade_mapped</td>\n",
       "      <td>0.182739</td>\n",
       "    </tr>\n",
       "    <tr>\n",
       "      <th>3</th>\n",
       "      <td>pass/fail_mapped</td>\n",
       "      <td>0.000000</td>\n",
       "    </tr>\n",
       "  </tbody>\n",
       "</table>\n",
       "</div>"
      ],
      "text/plain": [
       "            feature  importance\n",
       "0     reading score    0.412440\n",
       "1        math score    0.404821\n",
       "2      grade_mapped    0.182739\n",
       "3  pass/fail_mapped    0.000000"
      ]
     },
     "execution_count": 51,
     "metadata": {},
     "output_type": "execute_result"
    }
   ],
   "source": [
    "feature1=['reading score','math score','grade_mapped','pass/fail_mapped']\n",
    "feature_imp1=pd.DataFrame({'feature':feature1,'importance':clf.feature_importances_})\n",
    "feature_imp1"
   ]
  },
  {
   "cell_type": "code",
   "execution_count": 52,
   "metadata": {},
   "outputs": [
    {
     "data": {
      "text/plain": [
       "<matplotlib.axes._subplots.AxesSubplot at 0xd4305d0>"
      ]
     },
     "execution_count": 52,
     "metadata": {},
     "output_type": "execute_result"
    },
    {
     "data": {
      "image/png": "[encoded data removed]",
      "text/plain": [
       "<Figure size 432x288 with 1 Axes>"
      ]
     },
     "metadata": {
      "needs_background": "light"
     },
     "output_type": "display_data"
    }
   ],
   "source": [
    "feature_imp1.plot.bar()"
   ]
  },
  {
   "cell_type": "markdown",
   "metadata": {},
   "source": [
    "#### Since pass/fail_mapped has no importance at all lets remove that as well"
   ]
  },
  {
   "cell_type": "code",
   "execution_count": 53,
   "metadata": {},
   "outputs": [
    {
     "data": {
      "text/plain": [
       "RandomForestClassifier(bootstrap=True, class_weight=None, criterion='gini',\n",
       "            max_depth=2, max_features='auto', max_leaf_nodes=None,\n",
       "            min_impurity_decrease=0.0, min_impurity_split=None,\n",
       "            min_samples_leaf=1, min_samples_split=2,\n",
       "            min_weight_fraction_leaf=0.0, n_estimators=100, n_jobs=None,\n",
       "            oob_score=False, random_state=0, verbose=0, warm_start=False)"
      ]
     },
     "execution_count": 53,
     "metadata": {},
     "output_type": "execute_result"
    }
   ],
   "source": [
    "X2=df[['reading score','reading score','grade_mapped']]\n",
    "clf.fit(X2,y)"
   ]
  },
  {
   "cell_type": "code",
   "execution_count": 54,
   "metadata": {},
   "outputs": [
    {
     "data": {
      "text/html": [
       "<div>\n",
       "<style scoped>\n",
       "    .dataframe tbody tr th:only-of-type {\n",
       "        vertical-align: middle;\n",
       "    }\n",
       "\n",
       "    .dataframe tbody tr th {\n",
       "        vertical-align: top;\n",
       "    }\n",
       "\n",
       "    .dataframe thead th {\n",
       "        text-align: right;\n",
       "    }\n",
       "</style>\n",
       "<table border=\"1\" class=\"dataframe\">\n",
       "  <thead>\n",
       "    <tr style=\"text-align: right;\">\n",
       "      <th></th>\n",
       "      <th>feature</th>\n",
       "      <th>importance</th>\n",
       "    </tr>\n",
       "  </thead>\n",
       "  <tbody>\n",
       "    <tr>\n",
       "      <th>0</th>\n",
       "      <td>reading score</td>\n",
       "      <td>0.320555</td>\n",
       "    </tr>\n",
       "    <tr>\n",
       "      <th>1</th>\n",
       "      <td>math score</td>\n",
       "      <td>0.392631</td>\n",
       "    </tr>\n",
       "    <tr>\n",
       "      <th>2</th>\n",
       "      <td>grade_mapped</td>\n",
       "      <td>0.286814</td>\n",
       "    </tr>\n",
       "  </tbody>\n",
       "</table>\n",
       "</div>"
      ],
      "text/plain": [
       "         feature  importance\n",
       "0  reading score    0.320555\n",
       "1     math score    0.392631\n",
       "2   grade_mapped    0.286814"
      ]
     },
     "execution_count": 54,
     "metadata": {},
     "output_type": "execute_result"
    }
   ],
   "source": [
    "feature2=['reading score','math score','grade_mapped']\n",
    "feature_imp2=pd.DataFrame({'feature':feature2,'importance':clf.feature_importances_})\n",
    "feature_imp2"
   ]
  },
  {
   "cell_type": "code",
   "execution_count": 55,
   "metadata": {},
   "outputs": [
    {
     "data": {
      "text/plain": [
       "<matplotlib.axes._subplots.AxesSubplot at 0xe8b2b30>"
      ]
     },
     "execution_count": 55,
     "metadata": {},
     "output_type": "execute_result"
    },
    {
     "data": {
      "image/png": "[encoded data removed]",
      "text/plain": [
       "<Figure size 432x288 with 1 Axes>"
      ]
     },
     "metadata": {
      "needs_background": "light"
     },
     "output_type": "display_data"
    }
   ],
   "source": [
    "feature_imp2.plot.bar()"
   ]
  },
  {
   "cell_type": "markdown",
   "metadata": {},
   "source": [
    "### Prediciting reading score without test preparation course,gender and pass/fail"
   ]
  },
  {
   "cell_type": "code",
   "execution_count": 56,
   "metadata": {},
   "outputs": [],
   "source": [
    "X1_train,X1_test,y1_train,y1_test=tt(X2,y,test_size=0.2,random_state=234)"
   ]
  },
  {
   "cell_type": "markdown",
   "metadata": {},
   "source": [
    "### Fitting X1_train and y1_train in linear model"
   ]
  },
  {
   "cell_type": "code",
   "execution_count": 57,
   "metadata": {},
   "outputs": [
    {
     "data": {
      "text/plain": [
       "LinearRegression(copy_X=True, fit_intercept=True, n_jobs=None,\n",
       "         normalize=False)"
      ]
     },
     "execution_count": 57,
     "metadata": {},
     "output_type": "execute_result"
    }
   ],
   "source": [
    "model.fit(X1_train,y1_train)"
   ]
  },
  {
   "cell_type": "code",
   "execution_count": 58,
   "metadata": {},
   "outputs": [
    {
     "data": {
      "text/plain": [
       "0.9238656134526276"
      ]
     },
     "execution_count": 58,
     "metadata": {},
     "output_type": "execute_result"
    }
   ],
   "source": [
    "model.score(X1_test,y1_test)"
   ]
  },
  {
   "cell_type": "code",
   "execution_count": 59,
   "metadata": {},
   "outputs": [
    {
     "data": {
      "text/plain": [
       "array([52.62591152, 90.83214931, 73.30715542, 72.49465542, 65.36965542,\n",
       "       64.55715542, 73.30715542, 78.05715542, 54.13216763, 85.20714931,\n",
       "       75.68215542, 46.28216152, 82.08214931, 74.86965542, 97.08214931,\n",
       "       50.21966152, 76.43215542, 32.69466763, 67.68215542, 62.99465542,\n",
       "       86.76964931, 75.68215542, 61.34466152, 70.86965542, 66.93215542,\n",
       "       69.30715542, 67.68215542, 68.49465542, 32.69466763, 71.74465542,\n",
       "       90.83214931, 74.86965542, 74.86965542, 56.59466152, 67.68215542,\n",
       "       91.58214931, 75.68215542, 76.43215542, 70.86965542, 51.81341152,\n",
       "       89.20714931, 87.64464931, 66.93215542, 62.99465542, 67.68215542,\n",
       "       86.76964931, 70.86965542, 69.30715542, 65.36965542, 66.93215542,\n",
       "       73.30715542, 75.68215542, 35.91341763, 66.11965542, 65.36965542,\n",
       "       76.43215542, 73.30715542, 50.21966152, 58.15716152, 55.03216152,\n",
       "       51.81341152, 57.40716152, 61.43215542, 73.30715542, 66.11965542,\n",
       "       82.08214931, 75.68215542, 35.10091763, 64.55715542, 64.55715542,\n",
       "       84.39464931, 85.20714931, 64.55715542, 66.11965542, 43.06341152,\n",
       "       74.11965542, 83.64464931, 72.49465542, 70.86965542, 55.78216152,\n",
       "       82.08214931, 50.21966152, 76.43215542, 89.20714931, 88.45714931,\n",
       "       75.68215542, 24.00716763, 63.74465542, 54.21966152, 58.15716152,\n",
       "       79.61965542, 62.99465542, 70.86965542, 74.11965542, 73.30715542,\n",
       "       63.74465542, 71.74465542, 66.11965542, 43.06341152, 51.81341152,\n",
       "       90.83214931, 64.55715542, 72.49465542, 53.40716152, 77.24465542,\n",
       "       63.74465542, 58.96966152, 67.68215542, 74.86965542, 70.86965542,\n",
       "       71.74465542, 65.36965542, 36.69466763, 74.86965542, 67.68215542,\n",
       "       97.08214931, 68.49465542, 48.62591152, 70.86965542, 68.49465542,\n",
       "       61.43215542, 59.71966152, 74.86965542, 70.05715542, 64.55715542,\n",
       "       67.68215542, 71.74465542, 68.49465542, 67.68215542, 47.84466152,\n",
       "       89.20714931, 66.11965542, 60.53216152, 72.49465542, 64.55715542,\n",
       "       64.55715542, 70.86965542, 86.76964931, 76.51964931, 64.55715542,\n",
       "       62.18215542, 64.55715542, 74.86965542, 78.80715542, 78.80715542,\n",
       "       70.86965542, 77.24465542, 59.71966152, 36.69466763, 47.06341152,\n",
       "       72.49465542, 74.86965542, 58.15716152, 93.14464931, 56.59466152,\n",
       "       79.70714931, 43.87591152, 75.68215542, 71.74465542, 77.24465542,\n",
       "       88.45714931, 61.34466152, 68.49465542, 72.49465542, 41.44466763,\n",
       "       85.20714931, 78.80715542, 50.21966152, 71.74465542, 89.20714931,\n",
       "       86.01964931, 76.43215542, 55.78216152, 75.68215542, 66.93215542,\n",
       "       97.08214931, 58.15716152, 86.76964931, 58.15716152, 43.06341152,\n",
       "       54.21966152, 73.30715542, 69.30715542, 54.21966152, 56.59466152,\n",
       "       82.83214931, 93.14464931, 54.21966152, 76.43215542, 49.40716152,\n",
       "       72.49465542, 28.75716763, 68.49465542, 97.08214931, 49.38216763,\n",
       "       70.05715542, 66.93215542, 67.68215542, 45.46966152, 97.08214931])"
      ]
     },
     "execution_count": 59,
     "metadata": {},
     "output_type": "execute_result"
    }
   ],
   "source": [
    "prediction1=model.predict(X1_test)\n",
    "prediction1"
   ]
  },
  {
   "cell_type": "markdown",
   "metadata": {},
   "source": [
    "### Comparing Predicitons with and without test preparation course, gender and pass/fail"
   ]
  },
  {
   "cell_type": "code",
   "execution_count": 60,
   "metadata": {},
   "outputs": [
    {
     "data": {
      "text/html": [
       "<div>\n",
       "<style scoped>\n",
       "    .dataframe tbody tr th:only-of-type {\n",
       "        vertical-align: middle;\n",
       "    }\n",
       "\n",
       "    .dataframe tbody tr th {\n",
       "        vertical-align: top;\n",
       "    }\n",
       "\n",
       "    .dataframe thead th {\n",
       "        text-align: right;\n",
       "    }\n",
       "</style>\n",
       "<table border=\"1\" class=\"dataframe\">\n",
       "  <thead>\n",
       "    <tr style=\"text-align: right;\">\n",
       "      <th></th>\n",
       "      <th>With test preparation course</th>\n",
       "      <th>Without test preparation course</th>\n",
       "    </tr>\n",
       "  </thead>\n",
       "  <tbody>\n",
       "    <tr>\n",
       "      <th>0</th>\n",
       "      <td>50.990981</td>\n",
       "      <td>52.625912</td>\n",
       "    </tr>\n",
       "    <tr>\n",
       "      <th>1</th>\n",
       "      <td>90.898704</td>\n",
       "      <td>90.832149</td>\n",
       "    </tr>\n",
       "    <tr>\n",
       "      <th>2</th>\n",
       "      <td>74.377441</td>\n",
       "      <td>73.307155</td>\n",
       "    </tr>\n",
       "    <tr>\n",
       "      <th>3</th>\n",
       "      <td>71.256916</td>\n",
       "      <td>72.494655</td>\n",
       "    </tr>\n",
       "    <tr>\n",
       "      <th>4</th>\n",
       "      <td>65.744306</td>\n",
       "      <td>65.369655</td>\n",
       "    </tr>\n",
       "    <tr>\n",
       "      <th>5</th>\n",
       "      <td>64.948837</td>\n",
       "      <td>64.557155</td>\n",
       "    </tr>\n",
       "    <tr>\n",
       "      <th>6</th>\n",
       "      <td>77.168884</td>\n",
       "      <td>73.307155</td>\n",
       "    </tr>\n",
       "    <tr>\n",
       "      <th>7</th>\n",
       "      <td>78.239304</td>\n",
       "      <td>78.057155</td>\n",
       "    </tr>\n",
       "    <tr>\n",
       "      <th>8</th>\n",
       "      <td>51.232954</td>\n",
       "      <td>54.132168</td>\n",
       "    </tr>\n",
       "    <tr>\n",
       "      <th>9</th>\n",
       "      <td>90.195342</td>\n",
       "      <td>85.207149</td>\n",
       "    </tr>\n",
       "    <tr>\n",
       "      <th>10</th>\n",
       "      <td>80.020301</td>\n",
       "      <td>75.682155</td>\n",
       "    </tr>\n",
       "    <tr>\n",
       "      <th>11</th>\n",
       "      <td>45.557251</td>\n",
       "      <td>46.282162</td>\n",
       "    </tr>\n",
       "    <tr>\n",
       "      <th>12</th>\n",
       "      <td>80.036923</td>\n",
       "      <td>82.082149</td>\n",
       "    </tr>\n",
       "    <tr>\n",
       "      <th>13</th>\n",
       "      <td>78.992327</td>\n",
       "      <td>74.869655</td>\n",
       "    </tr>\n",
       "    <tr>\n",
       "      <th>14</th>\n",
       "      <td>100.267332</td>\n",
       "      <td>97.082149</td>\n",
       "    </tr>\n",
       "    <tr>\n",
       "      <th>15</th>\n",
       "      <td>46.744530</td>\n",
       "      <td>50.219662</td>\n",
       "    </tr>\n",
       "    <tr>\n",
       "      <th>16</th>\n",
       "      <td>78.508410</td>\n",
       "      <td>76.432155</td>\n",
       "    </tr>\n",
       "    <tr>\n",
       "      <th>17</th>\n",
       "      <td>34.172897</td>\n",
       "      <td>32.694668</td>\n",
       "    </tr>\n",
       "    <tr>\n",
       "      <th>18</th>\n",
       "      <td>70.438073</td>\n",
       "      <td>67.682155</td>\n",
       "    </tr>\n",
       "    <tr>\n",
       "      <th>19</th>\n",
       "      <td>65.450449</td>\n",
       "      <td>62.994655</td>\n",
       "    </tr>\n",
       "    <tr>\n",
       "      <th>20</th>\n",
       "      <td>83.199894</td>\n",
       "      <td>86.769649</td>\n",
       "    </tr>\n",
       "    <tr>\n",
       "      <th>21</th>\n",
       "      <td>78.857774</td>\n",
       "      <td>75.682155</td>\n",
       "    </tr>\n",
       "    <tr>\n",
       "      <th>22</th>\n",
       "      <td>61.817370</td>\n",
       "      <td>61.344662</td>\n",
       "    </tr>\n",
       "    <tr>\n",
       "      <th>23</th>\n",
       "      <td>65.033563</td>\n",
       "      <td>70.869655</td>\n",
       "    </tr>\n",
       "    <tr>\n",
       "      <th>24</th>\n",
       "      <td>67.102739</td>\n",
       "      <td>66.932155</td>\n",
       "    </tr>\n",
       "    <tr>\n",
       "      <th>25</th>\n",
       "      <td>69.954157</td>\n",
       "      <td>69.307155</td>\n",
       "    </tr>\n",
       "    <tr>\n",
       "      <th>26</th>\n",
       "      <td>64.176743</td>\n",
       "      <td>67.682155</td>\n",
       "    </tr>\n",
       "    <tr>\n",
       "      <th>27</th>\n",
       "      <td>69.837132</td>\n",
       "      <td>68.494655</td>\n",
       "    </tr>\n",
       "    <tr>\n",
       "      <th>28</th>\n",
       "      <td>35.335424</td>\n",
       "      <td>32.694668</td>\n",
       "    </tr>\n",
       "    <tr>\n",
       "      <th>29</th>\n",
       "      <td>72.108058</td>\n",
       "      <td>71.744655</td>\n",
       "    </tr>\n",
       "    <tr>\n",
       "      <th>...</th>\n",
       "      <td>...</td>\n",
       "      <td>...</td>\n",
       "    </tr>\n",
       "    <tr>\n",
       "      <th>170</th>\n",
       "      <td>85.660879</td>\n",
       "      <td>86.019649</td>\n",
       "    </tr>\n",
       "    <tr>\n",
       "      <th>171</th>\n",
       "      <td>75.931778</td>\n",
       "      <td>76.432155</td>\n",
       "    </tr>\n",
       "    <tr>\n",
       "      <th>172</th>\n",
       "      <td>52.312812</td>\n",
       "      <td>55.782162</td>\n",
       "    </tr>\n",
       "    <tr>\n",
       "      <th>173</th>\n",
       "      <td>78.625268</td>\n",
       "      <td>75.682155</td>\n",
       "    </tr>\n",
       "    <tr>\n",
       "      <th>174</th>\n",
       "      <td>63.846285</td>\n",
       "      <td>66.932155</td>\n",
       "    </tr>\n",
       "    <tr>\n",
       "      <th>175</th>\n",
       "      <td>100.034826</td>\n",
       "      <td>97.082149</td>\n",
       "    </tr>\n",
       "    <tr>\n",
       "      <th>176</th>\n",
       "      <td>60.030528</td>\n",
       "      <td>58.157162</td>\n",
       "    </tr>\n",
       "    <tr>\n",
       "      <th>177</th>\n",
       "      <td>81.804861</td>\n",
       "      <td>86.769649</td>\n",
       "    </tr>\n",
       "    <tr>\n",
       "      <th>178</th>\n",
       "      <td>55.861747</td>\n",
       "      <td>58.157162</td>\n",
       "    </tr>\n",
       "    <tr>\n",
       "      <th>179</th>\n",
       "      <td>44.700431</td>\n",
       "      <td>43.063412</td>\n",
       "    </tr>\n",
       "    <tr>\n",
       "      <th>180</th>\n",
       "      <td>55.819301</td>\n",
       "      <td>54.219662</td>\n",
       "    </tr>\n",
       "    <tr>\n",
       "      <th>181</th>\n",
       "      <td>76.471367</td>\n",
       "      <td>73.307155</td>\n",
       "    </tr>\n",
       "    <tr>\n",
       "      <th>182</th>\n",
       "      <td>72.494022</td>\n",
       "      <td>69.307155</td>\n",
       "    </tr>\n",
       "    <tr>\n",
       "      <th>183</th>\n",
       "      <td>56.070878</td>\n",
       "      <td>54.219662</td>\n",
       "    </tr>\n",
       "    <tr>\n",
       "      <th>184</th>\n",
       "      <td>52.643270</td>\n",
       "      <td>56.594662</td>\n",
       "    </tr>\n",
       "    <tr>\n",
       "      <th>185</th>\n",
       "      <td>78.292527</td>\n",
       "      <td>82.832149</td>\n",
       "    </tr>\n",
       "    <tr>\n",
       "      <th>186</th>\n",
       "      <td>96.289987</td>\n",
       "      <td>93.144649</td>\n",
       "    </tr>\n",
       "    <tr>\n",
       "      <th>187</th>\n",
       "      <td>58.610744</td>\n",
       "      <td>54.219662</td>\n",
       "    </tr>\n",
       "    <tr>\n",
       "      <th>188</th>\n",
       "      <td>76.164283</td>\n",
       "      <td>76.432155</td>\n",
       "    </tr>\n",
       "    <tr>\n",
       "      <th>189</th>\n",
       "      <td>52.693098</td>\n",
       "      <td>49.407162</td>\n",
       "    </tr>\n",
       "    <tr>\n",
       "      <th>190</th>\n",
       "      <td>74.996077</td>\n",
       "      <td>72.494655</td>\n",
       "    </tr>\n",
       "    <tr>\n",
       "      <th>191</th>\n",
       "      <td>31.823091</td>\n",
       "      <td>28.757168</td>\n",
       "    </tr>\n",
       "    <tr>\n",
       "      <th>192</th>\n",
       "      <td>69.391193</td>\n",
       "      <td>68.494655</td>\n",
       "    </tr>\n",
       "    <tr>\n",
       "      <th>193</th>\n",
       "      <td>100.034826</td>\n",
       "      <td>97.082149</td>\n",
       "    </tr>\n",
       "    <tr>\n",
       "      <th>194</th>\n",
       "      <td>50.860050</td>\n",
       "      <td>49.382168</td>\n",
       "    </tr>\n",
       "    <tr>\n",
       "      <th>195</th>\n",
       "      <td>67.725677</td>\n",
       "      <td>70.057155</td>\n",
       "    </tr>\n",
       "    <tr>\n",
       "      <th>196</th>\n",
       "      <td>64.311296</td>\n",
       "      <td>66.932155</td>\n",
       "    </tr>\n",
       "    <tr>\n",
       "      <th>197</th>\n",
       "      <td>66.966809</td>\n",
       "      <td>67.682155</td>\n",
       "    </tr>\n",
       "    <tr>\n",
       "      <th>198</th>\n",
       "      <td>45.209098</td>\n",
       "      <td>45.469662</td>\n",
       "    </tr>\n",
       "    <tr>\n",
       "      <th>199</th>\n",
       "      <td>98.424983</td>\n",
       "      <td>97.082149</td>\n",
       "    </tr>\n",
       "  </tbody>\n",
       "</table>\n",
       "<p>200 rows × 2 columns</p>\n",
       "</div>"
      ],
      "text/plain": [
       "     With test preparation course  Without test preparation course\n",
       "0                       50.990981                        52.625912\n",
       "1                       90.898704                        90.832149\n",
       "2                       74.377441                        73.307155\n",
       "3                       71.256916                        72.494655\n",
       "4                       65.744306                        65.369655\n",
       "5                       64.948837                        64.557155\n",
       "6                       77.168884                        73.307155\n",
       "7                       78.239304                        78.057155\n",
       "8                       51.232954                        54.132168\n",
       "9                       90.195342                        85.207149\n",
       "10                      80.020301                        75.682155\n",
       "11                      45.557251                        46.282162\n",
       "12                      80.036923                        82.082149\n",
       "13                      78.992327                        74.869655\n",
       "14                     100.267332                        97.082149\n",
       "15                      46.744530                        50.219662\n",
       "16                      78.508410                        76.432155\n",
       "17                      34.172897                        32.694668\n",
       "18                      70.438073                        67.682155\n",
       "19                      65.450449                        62.994655\n",
       "20                      83.199894                        86.769649\n",
       "21                      78.857774                        75.682155\n",
       "22                      61.817370                        61.344662\n",
       "23                      65.033563                        70.869655\n",
       "24                      67.102739                        66.932155\n",
       "25                      69.954157                        69.307155\n",
       "26                      64.176743                        67.682155\n",
       "27                      69.837132                        68.494655\n",
       "28                      35.335424                        32.694668\n",
       "29                      72.108058                        71.744655\n",
       "..                            ...                              ...\n",
       "170                     85.660879                        86.019649\n",
       "171                     75.931778                        76.432155\n",
       "172                     52.312812                        55.782162\n",
       "173                     78.625268                        75.682155\n",
       "174                     63.846285                        66.932155\n",
       "175                    100.034826                        97.082149\n",
       "176                     60.030528                        58.157162\n",
       "177                     81.804861                        86.769649\n",
       "178                     55.861747                        58.157162\n",
       "179                     44.700431                        43.063412\n",
       "180                     55.819301                        54.219662\n",
       "181                     76.471367                        73.307155\n",
       "182                     72.494022                        69.307155\n",
       "183                     56.070878                        54.219662\n",
       "184                     52.643270                        56.594662\n",
       "185                     78.292527                        82.832149\n",
       "186                     96.289987                        93.144649\n",
       "187                     58.610744                        54.219662\n",
       "188                     76.164283                        76.432155\n",
       "189                     52.693098                        49.407162\n",
       "190                     74.996077                        72.494655\n",
       "191                     31.823091                        28.757168\n",
       "192                     69.391193                        68.494655\n",
       "193                    100.034826                        97.082149\n",
       "194                     50.860050                        49.382168\n",
       "195                     67.725677                        70.057155\n",
       "196                     64.311296                        66.932155\n",
       "197                     66.966809                        67.682155\n",
       "198                     45.209098                        45.469662\n",
       "199                     98.424983                        97.082149\n",
       "\n",
       "[200 rows x 2 columns]"
      ]
     },
     "execution_count": 60,
     "metadata": {},
     "output_type": "execute_result"
    }
   ],
   "source": [
    "compare_two_perdictions = pd.DataFrame({'With test preparation course':write_predict,'Without test preparation course':prediction1})\n",
    "compare_two_perdictions"
   ]
  },
  {
   "cell_type": "code",
   "execution_count": null,
   "metadata": {},
   "outputs": [],
   "source": []
  }
 ],
 "metadata": {
  "kernelspec": {
   "display_name": "Python 3",
   "language": "python",
   "name": "python3"
  },
  "language_info": {
   "codemirror_mode": {
    "name": "ipython",
    "version": 3
   },
   "file_extension": ".py",
   "mimetype": "text/x-python",
   "name": "python",
   "nbconvert_exporter": "python",
   "pygments_lexer": "ipython3",
   "version": "3.7.1"
  }
 },
 "nbformat": 4,
 "nbformat_minor": 2
}
